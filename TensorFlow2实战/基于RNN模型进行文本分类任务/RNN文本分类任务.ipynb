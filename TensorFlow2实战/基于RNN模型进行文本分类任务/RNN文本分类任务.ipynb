{
 "cells": [
  {
   "cell_type": "markdown",
   "metadata": {},
   "source": [
    "### 文本分类任务实战\n",
    "\n",
    "- 数据集构建：影评数据集进行情感分析（分类任务）\n",
    "- 词向量模型：加载训练好的词向量或者自己训练都可以\n",
    "- 序列网络模型：训练RNN模型进行识别"
   ]
  },
  {
   "cell_type": "markdown",
   "metadata": {},
   "source": [
    "![title](./img/SentimentAnalysis2.png)"
   ]
  },
  {
   "cell_type": "markdown",
   "metadata": {},
   "source": [
    "### RNN模型所需数据解读：\n",
    "\n",
    "![title](./img/1.png)"
   ]
  },
  {
   "cell_type": "code",
   "execution_count": 34,
   "metadata": {
    "collapsed": true
   },
   "outputs": [],
   "source": [
    "import os\n",
    "import warnings\n",
    "warnings.filterwarnings(\"ignore\")\n",
    "import tensorflow as tf\n",
    "import numpy as np\n",
    "import pprint\n",
    "import logging\n",
    "import time\n",
    "from collections import Counter\n",
    "from pathlib import Path\n",
    "from tqdm import tqdm"
   ]
  },
  {
   "cell_type": "markdown",
   "metadata": {},
   "source": [
    "加载影评数据集，可以手动下载放到对应位置"
   ]
  },
  {
   "cell_type": "code",
   "execution_count": 3,
   "metadata": {},
   "outputs": [
    {
     "name": "stdout",
     "output_type": "stream",
     "text": [
      "Downloading data from https://storage.googleapis.com/tensorflow/tf-keras-datasets/imdb.npz\n",
      "17465344/17464789 [==============================] - 2735s 157us/step\n"
     ]
    }
   ],
   "source": [
    "(x_train, y_train), (x_test, y_test) = tf.keras.datasets.imdb.load_data()"
   ]
  },
  {
   "cell_type": "code",
   "execution_count": 42,
   "metadata": {},
   "outputs": [
    {
     "data": {
      "text/plain": [
       "(25000,)"
      ]
     },
     "execution_count": 42,
     "metadata": {},
     "output_type": "execute_result"
    }
   ],
   "source": [
    "x_train.shape"
   ]
  },
  {
   "cell_type": "markdown",
   "metadata": {},
   "source": [
    "读进来的数据是已经转换成ID映射的，一般的数据读进来都是词语，都需要手动转换成ID映射的"
   ]
  },
  {
   "cell_type": "code",
   "execution_count": 43,
   "metadata": {},
   "outputs": [
    {
     "data": {
      "text/plain": [
       "[1, 13, 586, 851, 14, 31, 60, 23, 2863, 2364, 314]"
      ]
     },
     "execution_count": 43,
     "metadata": {},
     "output_type": "execute_result"
    }
   ],
   "source": [
    "x_train[0]"
   ]
  },
  {
   "cell_type": "markdown",
   "metadata": {},
   "source": [
    "词和ID的映射表，空出来3个的目的是加上特殊字符"
   ]
  },
  {
   "cell_type": "code",
   "execution_count": 4,
   "metadata": {},
   "outputs": [
    {
     "name": "stdout",
     "output_type": "stream",
     "text": [
      "Downloading data from https://storage.googleapis.com/tensorflow/tf-keras-datasets/imdb_word_index.json\n",
      "1646592/1641221 [==============================] - 44s 27us/step\n"
     ]
    }
   ],
   "source": [
    "_word2idx = tf.keras.datasets.imdb.get_word_index()\n",
    "word2idx = {w: i+3 for w, i in _word2idx.items()}\n",
    "word2idx['<pad>'] = 0\n",
    "word2idx['<start>'] = 1\n",
    "word2idx['<unk>'] = 2\n",
    "idx2word = {i: w for w, i in word2idx.items()}"
   ]
  },
  {
   "cell_type": "markdown",
   "metadata": {},
   "source": [
    "按文本长度大小进行排序"
   ]
  },
  {
   "cell_type": "code",
   "execution_count": 5,
   "metadata": {
    "collapsed": true
   },
   "outputs": [],
   "source": [
    "def sort_by_len(x, y):\n",
    "    x, y = np.asarray(x), np.asarray(y)\n",
    "    idx = sorted(range(len(x)), key=lambda i: len(x[i]))\n",
    "    return x[idx], y[idx]"
   ]
  },
  {
   "cell_type": "markdown",
   "metadata": {},
   "source": [
    "将中间结果保存到本地，万一程序崩了还得重玩，保存的是文本数据，不是ID"
   ]
  },
  {
   "cell_type": "code",
   "execution_count": 8,
   "metadata": {
    "collapsed": true
   },
   "outputs": [],
   "source": [
    "x_train, y_train = sort_by_len(x_train, y_train)\n",
    "x_test, y_test = sort_by_len(x_test, y_test)\n",
    "\n",
    "def write_file(f_path, xs, ys):\n",
    "    with open(f_path, 'w',encoding='utf-8') as f:\n",
    "        for x, y in zip(xs, ys):\n",
    "            f.write(str(y)+'\\t'+' '.join([idx2word[i] for i in x][1:])+'\\n')\n",
    "\n",
    "write_file('./data/train.txt', x_train, y_train)\n",
    "write_file('./data/test.txt', x_test, y_test)"
   ]
  },
  {
   "cell_type": "markdown",
   "metadata": {},
   "source": [
    "### 构建语料表，基于词频来进行统计"
   ]
  },
  {
   "cell_type": "code",
   "execution_count": 11,
   "metadata": {},
   "outputs": [
    {
     "name": "stdout",
     "output_type": "stream",
     "text": [
      "Vocab Size: 20598\n"
     ]
    }
   ],
   "source": [
    "counter = Counter()\n",
    "with open('./data/train.txt',encoding='utf-8') as f:\n",
    "    for line in f:\n",
    "        line = line.rstrip()\n",
    "        label, words = line.split('\\t')\n",
    "        words = words.split(' ')\n",
    "        counter.update(words)\n",
    "\n",
    "words = ['<pad>'] + [w for w, freq in counter.most_common() if freq >= 10]\n",
    "print('Vocab Size:', len(words))\n",
    "\n",
    "Path('./vocab').mkdir(exist_ok=True)\n",
    "\n",
    "with open('./vocab/word.txt', 'w',encoding='utf-8') as f:\n",
    "    for w in words:\n",
    "        f.write(w+'\\n')"
   ]
  },
  {
   "cell_type": "markdown",
   "metadata": {},
   "source": [
    "得到新的word2id映射表"
   ]
  },
  {
   "cell_type": "code",
   "execution_count": 13,
   "metadata": {
    "collapsed": true
   },
   "outputs": [],
   "source": [
    "word2idx = {}\n",
    "with open('./vocab/word.txt',encoding='utf-8') as f:\n",
    "    for i, line in enumerate(f):\n",
    "        line = line.rstrip()\n",
    "        word2idx[line] = i"
   ]
  },
  {
   "cell_type": "markdown",
   "metadata": {},
   "source": [
    "### embedding层\n",
    "- 可以基于网络来训练，也可以直接加载别人训练好的，一般都是加载预训练模型\n",
    "- 这里有一些常用的：https://nlp.stanford.edu/projects/glove/"
   ]
  },
  {
   "cell_type": "markdown",
   "metadata": {
    "collapsed": true
   },
   "source": [
    "![title](./img/SentimentAnalysis3.png)"
   ]
  },
  {
   "cell_type": "code",
   "execution_count": 16,
   "metadata": {},
   "outputs": [
    {
     "name": "stdout",
     "output_type": "stream",
     "text": [
      "- At line 0\n",
      "- At line 100000\n",
      "- At line 200000\n",
      "- At line 300000\n"
     ]
    }
   ],
   "source": [
    "#做了一个大表，里面有20598个不同的词，【20599*50】\n",
    "embedding = np.zeros((len(word2idx)+1, 50)) # + 1 表示如果不在语料表中，就都是unknow\n",
    "\n",
    "with open('./data/glove.6B.50d.txt',encoding='utf-8') as f: #下载好的\n",
    "    count = 0\n",
    "    for i, line in enumerate(f):\n",
    "        if i % 100000 == 0:\n",
    "            print('- At line {}'.format(i)) #打印处理了多少数据\n",
    "        line = line.rstrip()\n",
    "        sp = line.split(' ')\n",
    "        word, vec = sp[0], sp[1:]\n",
    "        if word in word2idx:\n",
    "            count += 1\n",
    "            embedding[word2idx[word]] = np.asarray(vec, dtype='float32') #将词转换成对应的向量"
   ]
  },
  {
   "cell_type": "markdown",
   "metadata": {},
   "source": [
    "现在已经得到每个词索引所对应的向量"
   ]
  },
  {
   "cell_type": "code",
   "execution_count": 17,
   "metadata": {},
   "outputs": [
    {
     "name": "stdout",
     "output_type": "stream",
     "text": [
      "[19676 / 20598] words have found pre-trained values\n",
      "Saved ./vocab/word.npy\n"
     ]
    }
   ],
   "source": [
    "print(\"[%d / %d] words have found pre-trained values\"%(count, len(word2idx)))\n",
    "np.save('./vocab/word.npy', embedding)\n",
    "print('Saved ./vocab/word.npy')"
   ]
  },
  {
   "cell_type": "markdown",
   "metadata": {},
   "source": [
    "### 构建训练数据\n",
    "\n",
    "- 注意所有的输入样本必须都是相同shape（文本长度，词向量维度等）"
   ]
  },
  {
   "cell_type": "markdown",
   "metadata": {},
   "source": [
    "### 数据生成器\n",
    "- tf.data.Dataset.from_tensor_slices(tensor)：将tensor沿其第一个维度切片，返回一个含有N个样本的数据集，这样做的问题就是需要将整个数据集整体传入，然后切片建立数据集类对象，比较占内存。\n",
    "\n",
    "- tf.data.Dataset.from_generator(data_generator,output_data_type,output_data_shape)：从一个生成器中不断读取样本"
   ]
  },
  {
   "cell_type": "code",
   "execution_count": 18,
   "metadata": {
    "collapsed": true
   },
   "outputs": [],
   "source": [
    "def data_generator(f_path, params):\n",
    "    with open(f_path,encoding='utf-8') as f:\n",
    "        print('Reading', f_path)\n",
    "        for line in f:\n",
    "            line = line.rstrip()\n",
    "            label, text = line.split('\\t')\n",
    "            text = text.split(' ')\n",
    "            x = [params['word2idx'].get(w, len(word2idx)) for w in text]#得到当前词所对应的ID\n",
    "            if len(x) >= params['max_len']:#截断操作\n",
    "                x = x[:params['max_len']]\n",
    "            else:\n",
    "                x += [0] * (params['max_len'] - len(x))#补齐操作\n",
    "            y = int(label)\n",
    "            yield x, y"
   ]
  },
  {
   "cell_type": "code",
   "execution_count": 25,
   "metadata": {
    "collapsed": true
   },
   "outputs": [],
   "source": [
    "def dataset(is_training, params):\n",
    "    _shapes = ([params['max_len']], ())\n",
    "    _types = (tf.int32, tf.int32)\n",
    "  \n",
    "    if is_training:\n",
    "        ds = tf.data.Dataset.from_generator(\n",
    "            lambda: data_generator(params['train_path'], params),\n",
    "            output_shapes = _shapes,\n",
    "            output_types = _types,)\n",
    "        ds = ds.shuffle(params['num_samples'])\n",
    "        ds = ds.batch(params['batch_size'])\n",
    "        ds = ds.prefetch(tf.data.experimental.AUTOTUNE)#设置缓存序列，根据可用的CPU动态设置并行调用的数量，说白了就是加速\n",
    "    else:\n",
    "        ds = tf.data.Dataset.from_generator(\n",
    "            lambda: data_generator(params['test_path'], params),\n",
    "            output_shapes = _shapes,\n",
    "            output_types = _types,)\n",
    "        ds = ds.batch(params['batch_size'])\n",
    "        ds = ds.prefetch(tf.data.experimental.AUTOTUNE)\n",
    "  \n",
    "    return ds"
   ]
  },
  {
   "cell_type": "markdown",
   "metadata": {},
   "source": [
    "### 自定义网络模型\n",
    "- 定义好都有哪些层\n",
    "- 前向传播走一遍就行了"
   ]
  },
  {
   "cell_type": "markdown",
   "metadata": {},
   "source": [
    "embedding_lookup的作用："
   ]
  },
  {
   "cell_type": "markdown",
   "metadata": {},
   "source": [
    "![title](./img/SentimentAnalysis5.png)"
   ]
  },
  {
   "cell_type": "markdown",
   "metadata": {},
   "source": [
    "![title](./img/SentimentAnalysis16.png)"
   ]
  },
  {
   "cell_type": "markdown",
   "metadata": {},
   "source": [
    "![title](./img/2.png)"
   ]
  },
  {
   "cell_type": "code",
   "execution_count": null,
   "metadata": {
    "collapsed": true
   },
   "outputs": [],
   "source": [
    "class Model(tf.keras.Model):\n",
    "    def __init__(self, params):\n",
    "        super().__init__()\n",
    "    \n",
    "        self.embedding = tf.Variable(np.load('./vocab/word.npy'),\n",
    "                                     dtype=tf.float32,\n",
    "                                     name='pretrained_embedding',\n",
    "                                     trainable=False,)\n",
    "\n",
    "        self.drop1 = tf.keras.layers.Dropout(params['dropout_rate'])\n",
    "        self.drop2 = tf.keras.layers.Dropout(params['dropout_rate'])\n",
    "        self.drop3 = tf.keras.layers.Dropout(params['dropout_rate'])\n",
    "\n",
    "        self.rnn1 = tf.keras.layers.Bidirectional(tf.keras.layers.LSTM(params['rnn_units'], return_sequences=True))\n",
    "        self.rnn2 = tf.keras.layers.Bidirectional(tf.keras.layers.LSTM(params['rnn_units'], return_sequences=True))\n",
    "        self.rnn3 = tf.keras.layers.Bidirectional(tf.keras.layers.LSTM(params['rnn_units'], return_sequences=False))\n",
    "\n",
    "        self.drop_fc = tf.keras.layers.Dropout(params['dropout_rate'])\n",
    "        self.fc = tf.keras.layers.Dense(2*params['rnn_units'], tf.nn.elu)\n",
    "\n",
    "        self.out_linear = tf.keras.layers.Dense(2)\n",
    "\n",
    "  \n",
    "    def call(self, inputs, training=False):\n",
    "        if inputs.dtype != tf.int32:\n",
    "            inputs = tf.cast(inputs, tf.int32)\n",
    "    \n",
    "        batch_sz = tf.shape(inputs)[0]\n",
    "        rnn_units = 2*params['rnn_units']\n",
    "\n",
    "        x = tf.nn.embedding_lookup(self.embedding, inputs)\n",
    "        \n",
    "        x = self.drop1(x, training=training)\n",
    "        x = self.rnn1(x)\n",
    "\n",
    "        x = self.drop2(x, training=training)\n",
    "        x = self.rnn2(x)\n",
    "\n",
    "        x = self.drop3(x, training=training)\n",
    "        x = self.rnn3(x)\n",
    "\n",
    "        x = self.drop_fc(x, training=training)\n",
    "        x = self.fc(x)\n",
    "\n",
    "        x = self.out_linear(x)\n",
    "\n",
    "        return x"
   ]
  },
  {
   "cell_type": "markdown",
   "metadata": {},
   "source": [
    "二版本：速度会更快"
   ]
  },
  {
   "cell_type": "code",
   "execution_count": 37,
   "metadata": {
    "collapsed": true
   },
   "outputs": [],
   "source": [
    "class Model(tf.keras.Model):\n",
    "    def __init__(self, params):\n",
    "        super().__init__()\n",
    "    \n",
    "        self.embedding = tf.Variable(np.load('./vocab/word.npy'),\n",
    "                                     dtype=tf.float32,\n",
    "                                     name='pretrained_embedding',\n",
    "                                     trainable=False,)\n",
    "\n",
    "        self.drop1 = tf.keras.layers.Dropout(params['dropout_rate'])\n",
    "        self.drop2 = tf.keras.layers.Dropout(params['dropout_rate'])\n",
    "        self.drop3 = tf.keras.layers.Dropout(params['dropout_rate'])\n",
    "\n",
    "        self.rnn1 = tf.keras.layers.Bidirectional(tf.keras.layers.LSTM(params['rnn_units'], return_sequences=True))\n",
    "        self.rnn2 = tf.keras.layers.Bidirectional(tf.keras.layers.LSTM(params['rnn_units'], return_sequences=True))\n",
    "        self.rnn3 = tf.keras.layers.Bidirectional(tf.keras.layers.LSTM(params['rnn_units'], return_sequences=True))\n",
    "\n",
    "        self.drop_fc = tf.keras.layers.Dropout(params['dropout_rate'])\n",
    "        self.fc = tf.keras.layers.Dense(2*params['rnn_units'], tf.nn.elu)\n",
    "\n",
    "        self.out_linear = tf.keras.layers.Dense(2)\n",
    "\n",
    "  \n",
    "    def call(self, inputs, training=False):\n",
    "        if inputs.dtype != tf.int32:\n",
    "            inputs = tf.cast(inputs, tf.int32)\n",
    "    \n",
    "        batch_sz = tf.shape(inputs)[0]\n",
    "        rnn_units = 2*params['rnn_units']\n",
    "\n",
    "        x = tf.nn.embedding_lookup(self.embedding, inputs)\n",
    "        \n",
    "        x = tf.reshape(x, (batch_sz*10*10, 10, 50))\n",
    "        x = self.drop1(x, training=training)\n",
    "        x = self.rnn1(x)\n",
    "        x = tf.reduce_max(x, 1)\n",
    "\n",
    "        x = tf.reshape(x, (batch_sz*10, 10, rnn_units))\n",
    "        x = self.drop2(x, training=training)\n",
    "        x = self.rnn2(x)\n",
    "        x = tf.reduce_max(x, 1)\n",
    "\n",
    "        x = tf.reshape(x, (batch_sz, 10, rnn_units))\n",
    "        x = self.drop3(x, training=training)\n",
    "        x = self.rnn3(x)\n",
    "        x = tf.reduce_max(x, 1)\n",
    "\n",
    "        x = self.drop_fc(x, training=training)\n",
    "        x = self.fc(x)\n",
    "\n",
    "        x = self.out_linear(x)\n",
    "\n",
    "        return x"
   ]
  },
  {
   "cell_type": "markdown",
   "metadata": {},
   "source": [
    "### 设置参数"
   ]
  },
  {
   "cell_type": "code",
   "execution_count": 38,
   "metadata": {
    "collapsed": true
   },
   "outputs": [],
   "source": [
    "params = {\n",
    "  'vocab_path': './vocab/word.txt',\n",
    "  'train_path': './data/train.txt',\n",
    "  'test_path': './data/test.txt',\n",
    "  'num_samples': 25000,\n",
    "  'num_labels': 2,\n",
    "  'batch_size': 32,\n",
    "  'max_len': 1000,\n",
    "  'rnn_units': 200,\n",
    "  'dropout_rate': 0.2,\n",
    "  'clip_norm': 10.,\n",
    "  'num_patience': 3,\n",
    "  'lr': 3e-4,\n",
    "}"
   ]
  },
  {
   "cell_type": "markdown",
   "metadata": {},
   "source": [
    "用来判断进行提前停止"
   ]
  },
  {
   "cell_type": "code",
   "execution_count": 39,
   "metadata": {
    "collapsed": true
   },
   "outputs": [],
   "source": [
    "def is_descending(history: list):\n",
    "    history = history[-(params['num_patience']+1):]\n",
    "    for i in range(1, len(history)):\n",
    "        if history[i-1] <= history[i]:\n",
    "            return False\n",
    "    return True  "
   ]
  },
  {
   "cell_type": "code",
   "execution_count": 40,
   "metadata": {},
   "outputs": [
    {
     "name": "stdout",
     "output_type": "stream",
     "text": [
      "[('bidirectional_6/forward_lstm_6/kernel:0', TensorShape([50, 800])),\n",
      " ('bidirectional_6/forward_lstm_6/recurrent_kernel:0', TensorShape([200, 800])),\n",
      " ('bidirectional_6/forward_lstm_6/bias:0', TensorShape([800])),\n",
      " ('bidirectional_6/backward_lstm_6/kernel:0', TensorShape([50, 800])),\n",
      " ('bidirectional_6/backward_lstm_6/recurrent_kernel:0',\n",
      "  TensorShape([200, 800])),\n",
      " ('bidirectional_6/backward_lstm_6/bias:0', TensorShape([800])),\n",
      " ('bidirectional_7/forward_lstm_7/kernel:0', TensorShape([400, 800])),\n",
      " ('bidirectional_7/forward_lstm_7/recurrent_kernel:0', TensorShape([200, 800])),\n",
      " ('bidirectional_7/forward_lstm_7/bias:0', TensorShape([800])),\n",
      " ('bidirectional_7/backward_lstm_7/kernel:0', TensorShape([400, 800])),\n",
      " ('bidirectional_7/backward_lstm_7/recurrent_kernel:0',\n",
      "  TensorShape([200, 800])),\n",
      " ('bidirectional_7/backward_lstm_7/bias:0', TensorShape([800])),\n",
      " ('bidirectional_8/forward_lstm_8/kernel:0', TensorShape([400, 800])),\n",
      " ('bidirectional_8/forward_lstm_8/recurrent_kernel:0', TensorShape([200, 800])),\n",
      " ('bidirectional_8/forward_lstm_8/bias:0', TensorShape([800])),\n",
      " ('bidirectional_8/backward_lstm_8/kernel:0', TensorShape([400, 800])),\n",
      " ('bidirectional_8/backward_lstm_8/recurrent_kernel:0',\n",
      "  TensorShape([200, 800])),\n",
      " ('bidirectional_8/backward_lstm_8/bias:0', TensorShape([800])),\n",
      " ('dense_4/kernel:0', TensorShape([400, 400])),\n",
      " ('dense_4/bias:0', TensorShape([400])),\n",
      " ('dense_5/kernel:0', TensorShape([400, 2])),\n",
      " ('dense_5/bias:0', TensorShape([2]))]\n"
     ]
    }
   ],
   "source": [
    "word2idx = {}\n",
    "with open(params['vocab_path'],encoding='utf-8') as f:\n",
    "    for i, line in enumerate(f):\n",
    "        line = line.rstrip()\n",
    "        word2idx[line] = i\n",
    "params['word2idx'] = word2idx\n",
    "params['vocab_size'] = len(word2idx) + 1\n",
    "\n",
    "\n",
    "model = Model(params)\n",
    "model.build(input_shape=(None, None))#设置输入的大小，或者fit时候也能自动找到\n",
    "#pprint.pprint([(v.name, v.shape) for v in model.trainable_variables])\n",
    "\n",
    "#链接：https://tensorflow.google.cn/api_docs/python/tf/keras/optimizers/schedules/ExponentialDecay?version=stable\n",
    "#return initial_learning_rate * decay_rate ^ (step / decay_steps)\n",
    "decay_lr = tf.optimizers.schedules.ExponentialDecay(params['lr'], 1000, 0.95)#相当于加了一个指数衰减函数\n",
    "optim = tf.optimizers.Adam(params['lr'])\n",
    "global_step = 0\n",
    "\n",
    "history_acc = []\n",
    "best_acc = .0\n",
    "\n",
    "t0 = time.time()\n",
    "logger = logging.getLogger('tensorflow')\n",
    "logger.setLevel(logging.INFO)"
   ]
  },
  {
   "cell_type": "code",
   "execution_count": 41,
   "metadata": {},
   "outputs": [
    {
     "name": "stdout",
     "output_type": "stream",
     "text": [
      "Reading ./data/train.txt\n",
      "INFO:tensorflow:Step 0 | Loss: 0.6997 | Spent: 7.5 secs | LR: 0.000300\n",
      "INFO:tensorflow:Step 50 | Loss: 0.6958 | Spent: 71.8 secs | LR: 0.000299\n",
      "INFO:tensorflow:Step 100 | Loss: 0.6423 | Spent: 71.8 secs | LR: 0.000298\n",
      "INFO:tensorflow:Step 150 | Loss: 0.6298 | Spent: 72.2 secs | LR: 0.000298\n",
      "INFO:tensorflow:Step 200 | Loss: 0.6774 | Spent: 72.0 secs | LR: 0.000297\n",
      "INFO:tensorflow:Step 250 | Loss: 0.3872 | Spent: 72.4 secs | LR: 0.000296\n",
      "INFO:tensorflow:Step 300 | Loss: 0.5886 | Spent: 72.2 secs | LR: 0.000295\n",
      "INFO:tensorflow:Step 350 | Loss: 0.5208 | Spent: 72.3 secs | LR: 0.000295\n",
      "INFO:tensorflow:Step 400 | Loss: 0.5459 | Spent: 72.2 secs | LR: 0.000294\n",
      "INFO:tensorflow:Step 450 | Loss: 0.4033 | Spent: 72.0 secs | LR: 0.000293\n",
      "INFO:tensorflow:Step 500 | Loss: 0.4880 | Spent: 71.9 secs | LR: 0.000292\n",
      "INFO:tensorflow:Step 550 | Loss: 0.4110 | Spent: 72.1 secs | LR: 0.000292\n",
      "INFO:tensorflow:Step 600 | Loss: 0.3303 | Spent: 71.9 secs | LR: 0.000291\n",
      "INFO:tensorflow:Step 650 | Loss: 0.4532 | Spent: 72.0 secs | LR: 0.000290\n",
      "INFO:tensorflow:Step 700 | Loss: 0.3694 | Spent: 72.0 secs | LR: 0.000289\n",
      "INFO:tensorflow:Step 750 | Loss: 0.3793 | Spent: 72.1 secs | LR: 0.000289\n",
      "Reading ./data/test.txt\n",
      "INFO:tensorflow:Evaluation: Testing Accuracy: 0.801\n",
      "INFO:tensorflow:Best Accuracy: 0.801\n",
      "Reading ./data/train.txt\n",
      "INFO:tensorflow:Step 800 | Loss: 0.3283 | Spent: 612.8 secs | LR: 0.000288\n",
      "INFO:tensorflow:Step 850 | Loss: 0.3947 | Spent: 73.0 secs | LR: 0.000287\n",
      "INFO:tensorflow:Step 900 | Loss: 0.4499 | Spent: 73.1 secs | LR: 0.000286\n",
      "INFO:tensorflow:Step 950 | Loss: 0.4502 | Spent: 72.9 secs | LR: 0.000286\n",
      "INFO:tensorflow:Step 1000 | Loss: 0.2664 | Spent: 72.8 secs | LR: 0.000285\n",
      "INFO:tensorflow:Step 1050 | Loss: 0.6052 | Spent: 72.9 secs | LR: 0.000284\n",
      "INFO:tensorflow:Step 1100 | Loss: 0.4038 | Spent: 72.8 secs | LR: 0.000284\n",
      "INFO:tensorflow:Step 1150 | Loss: 0.4073 | Spent: 72.6 secs | LR: 0.000283\n",
      "INFO:tensorflow:Step 1200 | Loss: 0.6021 | Spent: 72.9 secs | LR: 0.000282\n",
      "INFO:tensorflow:Step 1250 | Loss: 0.3740 | Spent: 72.6 secs | LR: 0.000281\n",
      "INFO:tensorflow:Step 1300 | Loss: 0.2862 | Spent: 72.6 secs | LR: 0.000281\n",
      "INFO:tensorflow:Step 1350 | Loss: 0.3593 | Spent: 72.7 secs | LR: 0.000280\n",
      "INFO:tensorflow:Step 1400 | Loss: 0.4055 | Spent: 72.8 secs | LR: 0.000279\n",
      "INFO:tensorflow:Step 1450 | Loss: 0.3829 | Spent: 72.7 secs | LR: 0.000278\n",
      "INFO:tensorflow:Step 1500 | Loss: 0.2781 | Spent: 73.0 secs | LR: 0.000278\n",
      "INFO:tensorflow:Step 1550 | Loss: 0.4049 | Spent: 72.8 secs | LR: 0.000277\n",
      "Reading ./data/test.txt\n",
      "INFO:tensorflow:Evaluation: Testing Accuracy: 0.834\n",
      "INFO:tensorflow:Best Accuracy: 0.834\n",
      "Reading ./data/train.txt\n",
      "INFO:tensorflow:Step 1600 | Loss: 0.3570 | Spent: 613.7 secs | LR: 0.000276\n",
      "INFO:tensorflow:Step 1650 | Loss: 0.6459 | Spent: 73.6 secs | LR: 0.000276\n",
      "INFO:tensorflow:Step 1700 | Loss: 0.2739 | Spent: 73.7 secs | LR: 0.000275\n",
      "INFO:tensorflow:Step 1750 | Loss: 0.3188 | Spent: 73.7 secs | LR: 0.000274\n",
      "INFO:tensorflow:Step 1800 | Loss: 0.3385 | Spent: 73.6 secs | LR: 0.000274\n",
      "INFO:tensorflow:Step 1850 | Loss: 0.3036 | Spent: 73.9 secs | LR: 0.000273\n",
      "INFO:tensorflow:Step 1900 | Loss: 0.5164 | Spent: 73.6 secs | LR: 0.000272\n",
      "INFO:tensorflow:Step 1950 | Loss: 0.4155 | Spent: 73.6 secs | LR: 0.000271\n",
      "INFO:tensorflow:Step 2000 | Loss: 0.5918 | Spent: 73.7 secs | LR: 0.000271\n",
      "INFO:tensorflow:Step 2050 | Loss: 0.4144 | Spent: 73.6 secs | LR: 0.000270\n",
      "INFO:tensorflow:Step 2100 | Loss: 0.2698 | Spent: 73.7 secs | LR: 0.000269\n",
      "INFO:tensorflow:Step 2150 | Loss: 0.5273 | Spent: 73.8 secs | LR: 0.000269\n",
      "INFO:tensorflow:Step 2200 | Loss: 0.3793 | Spent: 73.6 secs | LR: 0.000268\n",
      "INFO:tensorflow:Step 2250 | Loss: 0.4311 | Spent: 73.5 secs | LR: 0.000267\n",
      "INFO:tensorflow:Step 2300 | Loss: 0.3288 | Spent: 73.6 secs | LR: 0.000267\n",
      "Reading ./data/test.txt\n",
      "INFO:tensorflow:Evaluation: Testing Accuracy: 0.809\n",
      "INFO:tensorflow:Best Accuracy: 0.834\n",
      "Reading ./data/train.txt\n",
      "INFO:tensorflow:Step 2350 | Loss: 0.6112 | Spent: 615.1 secs | LR: 0.000266\n",
      "INFO:tensorflow:Step 2400 | Loss: 0.2778 | Spent: 74.9 secs | LR: 0.000265\n",
      "INFO:tensorflow:Step 2450 | Loss: 0.3523 | Spent: 75.0 secs | LR: 0.000265\n",
      "INFO:tensorflow:Step 2500 | Loss: 0.4141 | Spent: 75.1 secs | LR: 0.000264\n",
      "INFO:tensorflow:Step 2550 | Loss: 0.3543 | Spent: 75.0 secs | LR: 0.000263\n",
      "INFO:tensorflow:Step 2600 | Loss: 0.2351 | Spent: 74.8 secs | LR: 0.000263\n",
      "INFO:tensorflow:Step 2650 | Loss: 0.4422 | Spent: 75.0 secs | LR: 0.000262\n",
      "INFO:tensorflow:Step 2700 | Loss: 0.4553 | Spent: 75.1 secs | LR: 0.000261\n",
      "INFO:tensorflow:Step 2750 | Loss: 0.5021 | Spent: 74.9 secs | LR: 0.000261\n",
      "INFO:tensorflow:Step 2800 | Loss: 0.3987 | Spent: 75.0 secs | LR: 0.000260\n",
      "INFO:tensorflow:Step 2850 | Loss: 0.2628 | Spent: 74.9 secs | LR: 0.000259\n",
      "INFO:tensorflow:Step 2900 | Loss: 0.4922 | Spent: 74.8 secs | LR: 0.000259\n",
      "INFO:tensorflow:Step 2950 | Loss: 0.1969 | Spent: 74.8 secs | LR: 0.000258\n",
      "INFO:tensorflow:Step 3000 | Loss: 0.3488 | Spent: 74.9 secs | LR: 0.000257\n",
      "INFO:tensorflow:Step 3050 | Loss: 0.3998 | Spent: 74.7 secs | LR: 0.000257\n",
      "INFO:tensorflow:Step 3100 | Loss: 0.2776 | Spent: 74.6 secs | LR: 0.000256\n",
      "Reading ./data/test.txt\n",
      "INFO:tensorflow:Evaluation: Testing Accuracy: 0.844\n",
      "INFO:tensorflow:Best Accuracy: 0.844\n",
      "Reading ./data/train.txt\n",
      "INFO:tensorflow:Step 3150 | Loss: 0.3244 | Spent: 616.7 secs | LR: 0.000255\n",
      "INFO:tensorflow:Step 3200 | Loss: 0.5225 | Spent: 75.3 secs | LR: 0.000255\n",
      "INFO:tensorflow:Step 3250 | Loss: 0.2641 | Spent: 75.5 secs | LR: 0.000254\n",
      "INFO:tensorflow:Step 3300 | Loss: 0.2367 | Spent: 75.3 secs | LR: 0.000253\n",
      "INFO:tensorflow:Step 3350 | Loss: 0.3099 | Spent: 75.5 secs | LR: 0.000253\n",
      "INFO:tensorflow:Step 3400 | Loss: 0.2742 | Spent: 75.2 secs | LR: 0.000252\n",
      "INFO:tensorflow:Step 3450 | Loss: 0.3256 | Spent: 75.3 secs | LR: 0.000251\n",
      "INFO:tensorflow:Step 3500 | Loss: 0.4417 | Spent: 75.4 secs | LR: 0.000251\n",
      "INFO:tensorflow:Step 3550 | Loss: 0.2146 | Spent: 75.2 secs | LR: 0.000250\n",
      "INFO:tensorflow:Step 3600 | Loss: 0.3370 | Spent: 75.3 secs | LR: 0.000249\n",
      "INFO:tensorflow:Step 3650 | Loss: 0.3379 | Spent: 75.6 secs | LR: 0.000249\n",
      "INFO:tensorflow:Step 3700 | Loss: 0.4901 | Spent: 75.5 secs | LR: 0.000248\n",
      "INFO:tensorflow:Step 3750 | Loss: 0.4251 | Spent: 75.2 secs | LR: 0.000248\n",
      "INFO:tensorflow:Step 3800 | Loss: 0.6643 | Spent: 75.3 secs | LR: 0.000247\n",
      "INFO:tensorflow:Step 3850 | Loss: 0.1615 | Spent: 75.4 secs | LR: 0.000246\n",
      "INFO:tensorflow:Step 3900 | Loss: 0.2971 | Spent: 75.1 secs | LR: 0.000246\n",
      "Reading ./data/test.txt\n",
      "INFO:tensorflow:Evaluation: Testing Accuracy: 0.862\n",
      "INFO:tensorflow:Best Accuracy: 0.862\n",
      "Reading ./data/train.txt\n",
      "INFO:tensorflow:Step 3950 | Loss: 0.3265 | Spent: 618.2 secs | LR: 0.000245\n",
      "INFO:tensorflow:Step 4000 | Loss: 0.2834 | Spent: 75.4 secs | LR: 0.000244\n",
      "INFO:tensorflow:Step 4050 | Loss: 0.2861 | Spent: 75.5 secs | LR: 0.000244\n",
      "INFO:tensorflow:Step 4100 | Loss: 0.3476 | Spent: 75.4 secs | LR: 0.000243\n",
      "INFO:tensorflow:Step 4150 | Loss: 0.3400 | Spent: 75.6 secs | LR: 0.000242\n",
      "INFO:tensorflow:Step 4200 | Loss: 0.2053 | Spent: 75.3 secs | LR: 0.000242\n",
      "INFO:tensorflow:Step 4250 | Loss: 0.3442 | Spent: 75.3 secs | LR: 0.000241\n",
      "INFO:tensorflow:Step 4300 | Loss: 0.2537 | Spent: 75.5 secs | LR: 0.000241\n",
      "INFO:tensorflow:Step 4350 | Loss: 0.1806 | Spent: 75.4 secs | LR: 0.000240\n",
      "INFO:tensorflow:Step 4400 | Loss: 0.2219 | Spent: 75.4 secs | LR: 0.000239\n",
      "INFO:tensorflow:Step 4450 | Loss: 0.2507 | Spent: 75.3 secs | LR: 0.000239\n",
      "INFO:tensorflow:Step 4500 | Loss: 0.2925 | Spent: 75.5 secs | LR: 0.000238\n",
      "INFO:tensorflow:Step 4550 | Loss: 0.3178 | Spent: 75.4 secs | LR: 0.000238\n",
      "INFO:tensorflow:Step 4600 | Loss: 0.2900 | Spent: 75.5 secs | LR: 0.000237\n",
      "INFO:tensorflow:Step 4650 | Loss: 0.2680 | Spent: 75.5 secs | LR: 0.000236\n",
      "Reading ./data/test.txt\n",
      "INFO:tensorflow:Evaluation: Testing Accuracy: 0.864\n",
      "INFO:tensorflow:Best Accuracy: 0.864\n",
      "Reading ./data/train.txt\n",
      "INFO:tensorflow:Step 4700 | Loss: 0.3978 | Spent: 619.4 secs | LR: 0.000236\n",
      "INFO:tensorflow:Step 4750 | Loss: 0.3334 | Spent: 75.9 secs | LR: 0.000235\n",
      "INFO:tensorflow:Step 4800 | Loss: 0.6177 | Spent: 76.1 secs | LR: 0.000235\n",
      "INFO:tensorflow:Step 4850 | Loss: 0.2187 | Spent: 76.2 secs | LR: 0.000234\n",
      "INFO:tensorflow:Step 4900 | Loss: 0.2485 | Spent: 76.1 secs | LR: 0.000233\n"
     ]
    },
    {
     "name": "stdout",
     "output_type": "stream",
     "text": [
      "INFO:tensorflow:Step 4950 | Loss: 0.1639 | Spent: 76.3 secs | LR: 0.000233\n",
      "INFO:tensorflow:Step 5000 | Loss: 0.2982 | Spent: 76.1 secs | LR: 0.000232\n",
      "INFO:tensorflow:Step 5050 | Loss: 0.3908 | Spent: 76.1 secs | LR: 0.000232\n",
      "INFO:tensorflow:Step 5100 | Loss: 0.3296 | Spent: 75.9 secs | LR: 0.000231\n",
      "INFO:tensorflow:Step 5150 | Loss: 0.2557 | Spent: 76.1 secs | LR: 0.000230\n",
      "INFO:tensorflow:Step 5200 | Loss: 0.3523 | Spent: 76.1 secs | LR: 0.000230\n",
      "INFO:tensorflow:Step 5250 | Loss: 0.3420 | Spent: 76.0 secs | LR: 0.000229\n",
      "INFO:tensorflow:Step 5300 | Loss: 0.3581 | Spent: 76.2 secs | LR: 0.000229\n",
      "INFO:tensorflow:Step 5350 | Loss: 0.4682 | Spent: 76.0 secs | LR: 0.000228\n",
      "INFO:tensorflow:Step 5400 | Loss: 0.5630 | Spent: 75.9 secs | LR: 0.000227\n",
      "INFO:tensorflow:Step 5450 | Loss: 0.2893 | Spent: 76.1 secs | LR: 0.000227\n",
      "Reading ./data/test.txt\n",
      "INFO:tensorflow:Evaluation: Testing Accuracy: 0.865\n",
      "INFO:tensorflow:Best Accuracy: 0.865\n",
      "Reading ./data/train.txt\n",
      "INFO:tensorflow:Step 5500 | Loss: 0.3496 | Spent: 625.8 secs | LR: 0.000226\n",
      "INFO:tensorflow:Step 5550 | Loss: 0.4140 | Spent: 75.8 secs | LR: 0.000226\n",
      "INFO:tensorflow:Step 5600 | Loss: 0.1650 | Spent: 75.8 secs | LR: 0.000225\n",
      "INFO:tensorflow:Step 5650 | Loss: 0.3119 | Spent: 75.8 secs | LR: 0.000225\n",
      "INFO:tensorflow:Step 5700 | Loss: 0.2623 | Spent: 75.8 secs | LR: 0.000224\n",
      "INFO:tensorflow:Step 5750 | Loss: 0.2630 | Spent: 75.8 secs | LR: 0.000223\n",
      "INFO:tensorflow:Step 5800 | Loss: 0.4143 | Spent: 75.9 secs | LR: 0.000223\n",
      "INFO:tensorflow:Step 5850 | Loss: 0.3510 | Spent: 75.8 secs | LR: 0.000222\n",
      "INFO:tensorflow:Step 5900 | Loss: 0.2421 | Spent: 75.7 secs | LR: 0.000222\n",
      "INFO:tensorflow:Step 5950 | Loss: 0.2656 | Spent: 75.9 secs | LR: 0.000221\n",
      "INFO:tensorflow:Step 6000 | Loss: 0.2004 | Spent: 75.6 secs | LR: 0.000221\n",
      "INFO:tensorflow:Step 6050 | Loss: 0.3927 | Spent: 75.8 secs | LR: 0.000220\n",
      "INFO:tensorflow:Step 6100 | Loss: 0.3521 | Spent: 75.7 secs | LR: 0.000219\n",
      "INFO:tensorflow:Step 6150 | Loss: 0.3392 | Spent: 76.0 secs | LR: 0.000219\n",
      "INFO:tensorflow:Step 6200 | Loss: 0.3118 | Spent: 75.7 secs | LR: 0.000218\n",
      "INFO:tensorflow:Step 6250 | Loss: 0.2954 | Spent: 75.6 secs | LR: 0.000218\n",
      "Reading ./data/test.txt\n",
      "INFO:tensorflow:Evaluation: Testing Accuracy: 0.870\n",
      "INFO:tensorflow:Best Accuracy: 0.870\n",
      "Reading ./data/train.txt\n",
      "INFO:tensorflow:Step 6300 | Loss: 0.3371 | Spent: 625.2 secs | LR: 0.000217\n",
      "INFO:tensorflow:Step 6350 | Loss: 0.2399 | Spent: 76.0 secs | LR: 0.000217\n",
      "INFO:tensorflow:Step 6400 | Loss: 0.2262 | Spent: 75.9 secs | LR: 0.000216\n",
      "INFO:tensorflow:Step 6450 | Loss: 0.1105 | Spent: 76.1 secs | LR: 0.000215\n",
      "INFO:tensorflow:Step 6500 | Loss: 0.2324 | Spent: 76.0 secs | LR: 0.000215\n",
      "INFO:tensorflow:Step 6550 | Loss: 0.2373 | Spent: 76.1 secs | LR: 0.000214\n",
      "INFO:tensorflow:Step 6600 | Loss: 0.2564 | Spent: 76.2 secs | LR: 0.000214\n",
      "INFO:tensorflow:Step 6650 | Loss: 0.2865 | Spent: 76.0 secs | LR: 0.000213\n",
      "INFO:tensorflow:Step 6700 | Loss: 0.4182 | Spent: 76.0 secs | LR: 0.000213\n",
      "INFO:tensorflow:Step 6750 | Loss: 0.4651 | Spent: 75.9 secs | LR: 0.000212\n",
      "INFO:tensorflow:Step 6800 | Loss: 0.2721 | Spent: 76.1 secs | LR: 0.000212\n",
      "INFO:tensorflow:Step 6850 | Loss: 0.2164 | Spent: 75.8 secs | LR: 0.000211\n",
      "INFO:tensorflow:Step 6900 | Loss: 0.2830 | Spent: 75.8 secs | LR: 0.000211\n",
      "INFO:tensorflow:Step 6950 | Loss: 0.3295 | Spent: 76.2 secs | LR: 0.000210\n",
      "INFO:tensorflow:Step 7000 | Loss: 0.3138 | Spent: 76.1 secs | LR: 0.000210\n",
      "Reading ./data/test.txt\n",
      "INFO:tensorflow:Evaluation: Testing Accuracy: 0.862\n",
      "INFO:tensorflow:Best Accuracy: 0.870\n",
      "Reading ./data/train.txt\n",
      "INFO:tensorflow:Step 7050 | Loss: 0.2344 | Spent: 627.1 secs | LR: 0.000209\n",
      "INFO:tensorflow:Step 7100 | Loss: 0.2337 | Spent: 76.2 secs | LR: 0.000208\n",
      "INFO:tensorflow:Step 7150 | Loss: 0.3335 | Spent: 76.1 secs | LR: 0.000208\n",
      "INFO:tensorflow:Step 7200 | Loss: 0.3935 | Spent: 76.0 secs | LR: 0.000207\n",
      "INFO:tensorflow:Step 7250 | Loss: 0.2452 | Spent: 76.1 secs | LR: 0.000207\n",
      "INFO:tensorflow:Step 7300 | Loss: 0.1164 | Spent: 76.2 secs | LR: 0.000206\n",
      "INFO:tensorflow:Step 7350 | Loss: 0.2695 | Spent: 76.1 secs | LR: 0.000206\n",
      "INFO:tensorflow:Step 7400 | Loss: 0.3538 | Spent: 76.1 secs | LR: 0.000205\n",
      "INFO:tensorflow:Step 7450 | Loss: 0.1992 | Spent: 76.2 secs | LR: 0.000205\n",
      "INFO:tensorflow:Step 7500 | Loss: 0.2896 | Spent: 76.1 secs | LR: 0.000204\n",
      "INFO:tensorflow:Step 7550 | Loss: 0.2893 | Spent: 76.1 secs | LR: 0.000204\n",
      "INFO:tensorflow:Step 7600 | Loss: 0.1754 | Spent: 76.1 secs | LR: 0.000203\n",
      "INFO:tensorflow:Step 7650 | Loss: 0.3931 | Spent: 76.1 secs | LR: 0.000203\n",
      "INFO:tensorflow:Step 7700 | Loss: 0.4920 | Spent: 76.0 secs | LR: 0.000202\n",
      "INFO:tensorflow:Step 7750 | Loss: 0.2085 | Spent: 76.0 secs | LR: 0.000202\n",
      "INFO:tensorflow:Step 7800 | Loss: 0.3513 | Spent: 76.2 secs | LR: 0.000201\n",
      "Reading ./data/test.txt\n",
      "INFO:tensorflow:Evaluation: Testing Accuracy: 0.875\n",
      "INFO:tensorflow:Best Accuracy: 0.875\n",
      "Reading ./data/train.txt\n",
      "INFO:tensorflow:Step 7850 | Loss: 0.2167 | Spent: 626.7 secs | LR: 0.000201\n",
      "INFO:tensorflow:Step 7900 | Loss: 0.3069 | Spent: 76.3 secs | LR: 0.000200\n",
      "INFO:tensorflow:Step 7950 | Loss: 0.2393 | Spent: 76.5 secs | LR: 0.000200\n",
      "INFO:tensorflow:Step 8000 | Loss: 0.2667 | Spent: 76.5 secs | LR: 0.000199\n",
      "INFO:tensorflow:Step 8050 | Loss: 0.2117 | Spent: 76.4 secs | LR: 0.000199\n",
      "INFO:tensorflow:Step 8100 | Loss: 0.1806 | Spent: 76.4 secs | LR: 0.000198\n",
      "INFO:tensorflow:Step 8150 | Loss: 0.2110 | Spent: 76.6 secs | LR: 0.000198\n",
      "INFO:tensorflow:Step 8200 | Loss: 0.2246 | Spent: 76.3 secs | LR: 0.000197\n",
      "INFO:tensorflow:Step 8250 | Loss: 0.2499 | Spent: 76.4 secs | LR: 0.000196\n",
      "INFO:tensorflow:Step 8300 | Loss: 0.2096 | Spent: 76.5 secs | LR: 0.000196\n",
      "INFO:tensorflow:Step 8350 | Loss: 0.3109 | Spent: 76.3 secs | LR: 0.000195\n",
      "INFO:tensorflow:Step 8400 | Loss: 0.2312 | Spent: 76.2 secs | LR: 0.000195\n",
      "INFO:tensorflow:Step 8450 | Loss: 0.3940 | Spent: 76.5 secs | LR: 0.000194\n",
      "INFO:tensorflow:Step 8500 | Loss: 0.2598 | Spent: 76.5 secs | LR: 0.000194\n",
      "INFO:tensorflow:Step 8550 | Loss: 0.1767 | Spent: 76.5 secs | LR: 0.000193\n",
      "INFO:tensorflow:Step 8600 | Loss: 0.4359 | Spent: 76.5 secs | LR: 0.000193\n",
      "Reading ./data/test.txt\n",
      "INFO:tensorflow:Evaluation: Testing Accuracy: 0.879\n",
      "INFO:tensorflow:Best Accuracy: 0.879\n",
      "Reading ./data/train.txt\n",
      "INFO:tensorflow:Step 8650 | Loss: 0.4749 | Spent: 632.6 secs | LR: 0.000192\n",
      "INFO:tensorflow:Step 8700 | Loss: 0.2706 | Spent: 76.8 secs | LR: 0.000192\n",
      "INFO:tensorflow:Step 8750 | Loss: 0.3617 | Spent: 77.1 secs | LR: 0.000192\n",
      "INFO:tensorflow:Step 8800 | Loss: 0.2407 | Spent: 77.1 secs | LR: 0.000191\n",
      "INFO:tensorflow:Step 8850 | Loss: 0.2144 | Spent: 76.8 secs | LR: 0.000191\n",
      "INFO:tensorflow:Step 8900 | Loss: 0.3284 | Spent: 76.8 secs | LR: 0.000190\n",
      "INFO:tensorflow:Step 8950 | Loss: 0.3100 | Spent: 77.2 secs | LR: 0.000190\n",
      "INFO:tensorflow:Step 9000 | Loss: 0.2253 | Spent: 76.8 secs | LR: 0.000189\n",
      "INFO:tensorflow:Step 9050 | Loss: 0.2891 | Spent: 76.9 secs | LR: 0.000189\n",
      "INFO:tensorflow:Step 9100 | Loss: 0.2274 | Spent: 77.0 secs | LR: 0.000188\n",
      "INFO:tensorflow:Step 9150 | Loss: 0.3311 | Spent: 76.9 secs | LR: 0.000188\n",
      "INFO:tensorflow:Step 9200 | Loss: 0.2458 | Spent: 76.8 secs | LR: 0.000187\n",
      "INFO:tensorflow:Step 9250 | Loss: 0.1913 | Spent: 76.9 secs | LR: 0.000187\n",
      "INFO:tensorflow:Step 9300 | Loss: 0.1911 | Spent: 77.1 secs | LR: 0.000186\n",
      "INFO:tensorflow:Step 9350 | Loss: 0.2019 | Spent: 76.9 secs | LR: 0.000186\n",
      "Reading ./data/test.txt\n",
      "INFO:tensorflow:Evaluation: Testing Accuracy: 0.878\n",
      "INFO:tensorflow:Best Accuracy: 0.879\n",
      "Reading ./data/train.txt\n",
      "INFO:tensorflow:Step 9400 | Loss: 0.3155 | Spent: 638.4 secs | LR: 0.000185\n",
      "INFO:tensorflow:Step 9450 | Loss: 0.3205 | Spent: 77.5 secs | LR: 0.000185\n",
      "INFO:tensorflow:Step 9500 | Loss: 0.5868 | Spent: 77.1 secs | LR: 0.000184\n",
      "INFO:tensorflow:Step 9550 | Loss: 0.6739 | Spent: 77.3 secs | LR: 0.000184\n",
      "INFO:tensorflow:Step 9600 | Loss: 0.1947 | Spent: 77.4 secs | LR: 0.000183\n",
      "INFO:tensorflow:Step 9650 | Loss: 0.1041 | Spent: 77.2 secs | LR: 0.000183\n",
      "INFO:tensorflow:Step 9700 | Loss: 0.1748 | Spent: 77.1 secs | LR: 0.000182\n",
      "INFO:tensorflow:Step 9750 | Loss: 0.2726 | Spent: 77.4 secs | LR: 0.000182\n",
      "INFO:tensorflow:Step 9800 | Loss: 0.1530 | Spent: 77.4 secs | LR: 0.000181\n",
      "INFO:tensorflow:Step 9850 | Loss: 0.3333 | Spent: 77.2 secs | LR: 0.000181\n"
     ]
    },
    {
     "name": "stdout",
     "output_type": "stream",
     "text": [
      "INFO:tensorflow:Step 9900 | Loss: 0.2760 | Spent: 77.3 secs | LR: 0.000181\n",
      "INFO:tensorflow:Step 9950 | Loss: 0.2942 | Spent: 77.4 secs | LR: 0.000180\n",
      "INFO:tensorflow:Step 10000 | Loss: 0.3393 | Spent: 77.4 secs | LR: 0.000180\n",
      "INFO:tensorflow:Step 10050 | Loss: 0.1426 | Spent: 77.3 secs | LR: 0.000179\n",
      "INFO:tensorflow:Step 10100 | Loss: 0.3615 | Spent: 77.5 secs | LR: 0.000179\n",
      "INFO:tensorflow:Step 10150 | Loss: 0.3624 | Spent: 77.3 secs | LR: 0.000178\n",
      "Reading ./data/test.txt\n",
      "INFO:tensorflow:Evaluation: Testing Accuracy: 0.872\n",
      "INFO:tensorflow:Best Accuracy: 0.879\n",
      "Reading ./data/train.txt\n",
      "INFO:tensorflow:Step 10200 | Loss: 0.2801 | Spent: 640.2 secs | LR: 0.000178\n",
      "INFO:tensorflow:Step 10250 | Loss: 0.1747 | Spent: 77.9 secs | LR: 0.000177\n",
      "INFO:tensorflow:Step 10300 | Loss: 0.2829 | Spent: 77.7 secs | LR: 0.000177\n",
      "INFO:tensorflow:Step 10350 | Loss: 0.2418 | Spent: 77.8 secs | LR: 0.000176\n",
      "INFO:tensorflow:Step 10400 | Loss: 0.1624 | Spent: 77.8 secs | LR: 0.000176\n",
      "INFO:tensorflow:Step 10450 | Loss: 0.2917 | Spent: 77.7 secs | LR: 0.000176\n",
      "INFO:tensorflow:Step 10500 | Loss: 0.4189 | Spent: 77.6 secs | LR: 0.000175\n",
      "INFO:tensorflow:Step 10550 | Loss: 0.3117 | Spent: 77.7 secs | LR: 0.000175\n",
      "INFO:tensorflow:Step 10600 | Loss: 0.2229 | Spent: 78.0 secs | LR: 0.000174\n",
      "INFO:tensorflow:Step 10650 | Loss: 0.3178 | Spent: 77.8 secs | LR: 0.000174\n",
      "INFO:tensorflow:Step 10700 | Loss: 0.1415 | Spent: 77.8 secs | LR: 0.000173\n",
      "INFO:tensorflow:Step 10750 | Loss: 0.2664 | Spent: 77.8 secs | LR: 0.000173\n",
      "INFO:tensorflow:Step 10800 | Loss: 0.2654 | Spent: 77.7 secs | LR: 0.000172\n",
      "INFO:tensorflow:Step 10850 | Loss: 0.1829 | Spent: 77.7 secs | LR: 0.000172\n",
      "INFO:tensorflow:Step 10900 | Loss: 0.2204 | Spent: 77.7 secs | LR: 0.000172\n",
      "Reading ./data/test.txt\n",
      "INFO:tensorflow:Evaluation: Testing Accuracy: 0.863\n",
      "INFO:tensorflow:Best Accuracy: 0.879\n",
      "INFO:tensorflow:Testing Accuracy not improved over 3 epochs, Early Stop\n"
     ]
    }
   ],
   "source": [
    "while True:\n",
    "  # 训练模型\n",
    "    for texts, labels in dataset(is_training=True, params=params):\n",
    "        with tf.GradientTape() as tape:#梯度带，记录所有在上下文中的操作，并且通过调用.gradient()获得任何上下文中计算得出的张量的梯度\n",
    "            logits = model(texts, training=True)\n",
    "            loss = tf.nn.sparse_softmax_cross_entropy_with_logits(labels=labels, logits=logits)\n",
    "            loss = tf.reduce_mean(loss)\n",
    "  \n",
    "        optim.lr.assign(decay_lr(global_step))\n",
    "        grads = tape.gradient(loss, model.trainable_variables)\n",
    "        grads, _ = tf.clip_by_global_norm(grads, params['clip_norm']) #将梯度限制一下，有的时候回更新太猛，防止过拟合\n",
    "        optim.apply_gradients(zip(grads, model.trainable_variables))#更新梯度\n",
    "\n",
    "        if global_step % 50 == 0:\n",
    "            logger.info(\"Step {} | Loss: {:.4f} | Spent: {:.1f} secs | LR: {:.6f}\".format(\n",
    "                global_step, loss.numpy().item(), time.time()-t0, optim.lr.numpy().item()))\n",
    "            t0 = time.time()\n",
    "        global_step += 1\n",
    "\n",
    "    # 验证集效果\n",
    "    m = tf.keras.metrics.Accuracy()\n",
    "\n",
    "    for texts, labels in dataset(is_training=False, params=params):\n",
    "        logits = model(texts, training=False)\n",
    "        y_pred = tf.argmax(logits, axis=-1)\n",
    "        m.update_state(y_true=labels, y_pred=y_pred)\n",
    "    \n",
    "    acc = m.result().numpy()\n",
    "    logger.info(\"Evaluation: Testing Accuracy: {:.3f}\".format(acc))\n",
    "    history_acc.append(acc)\n",
    "  \n",
    "    if acc > best_acc:\n",
    "        best_acc = acc\n",
    "    logger.info(\"Best Accuracy: {:.3f}\".format(best_acc))\n",
    "  \n",
    "    if len(history_acc) > params['num_patience'] and is_descending(history_acc):\n",
    "        logger.info(\"Testing Accuracy not improved over {} epochs, Early Stop\".format(params['num_patience']))\n",
    "        break"
   ]
  }
 ],
 "metadata": {
  "kernelspec": {
   "display_name": "Python 3",
   "language": "python",
   "name": "python3"
  },
  "language_info": {
   "codemirror_mode": {
    "name": "ipython",
    "version": 3
   },
   "file_extension": ".py",
   "mimetype": "text/x-python",
   "name": "python",
   "nbconvert_exporter": "python",
   "pygments_lexer": "ipython3",
   "version": "3.6.3"
  }
 },
 "nbformat": 4,
 "nbformat_minor": 2
}
