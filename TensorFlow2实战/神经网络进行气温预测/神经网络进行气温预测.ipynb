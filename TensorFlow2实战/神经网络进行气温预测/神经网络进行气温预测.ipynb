{
 "cells": [
  {
   "cell_type": "markdown",
   "metadata": {},
   "source": [
    "### 回归问题预测\n",
    "- Tensorflow2版本中将大量使用keras的简介建模方法\n"
   ]
  },
  {
   "cell_type": "code",
   "execution_count": 1,
   "metadata": {},
   "outputs": [
    {
     "name": "stderr",
     "output_type": "stream",
     "text": [
      "e:\\ProgramData\\Anaconda3\\lib\\site-packages\\numpy\\_distributor_init.py:32: UserWarning: loaded more than 1 DLL from .libs:\n",
      "e:\\ProgramData\\Anaconda3\\lib\\site-packages\\numpy\\.libs\\libopenblas.IPBC74C7KURV7CB2PKT5Z5FNR3SIBV4J.gfortran-win_amd64.dll\n",
      "e:\\ProgramData\\Anaconda3\\lib\\site-packages\\numpy\\.libs\\libopenblas.PYQHXLVVQ7VESDPUVUADXEVJOBGHJPAY.gfortran-win_amd64.dll\n",
      "  stacklevel=1)\n"
     ]
    }
   ],
   "source": [
    "import numpy as np\n",
    "import pandas as pd \n",
    "import matplotlib.pyplot as plt\n",
    "import tensorflow as tf\n",
    "from tensorflow.keras import layers\n",
    "import tensorflow.keras\n",
    "import warnings\n",
    "warnings.filterwarnings(\"ignore\")\n",
    "%matplotlib inline"
   ]
  },
  {
   "cell_type": "code",
   "execution_count": 2,
   "metadata": {},
   "outputs": [
    {
     "data": {
      "text/html": [
       "<div>\n",
       "<style scoped>\n",
       "    .dataframe tbody tr th:only-of-type {\n",
       "        vertical-align: middle;\n",
       "    }\n",
       "\n",
       "    .dataframe tbody tr th {\n",
       "        vertical-align: top;\n",
       "    }\n",
       "\n",
       "    .dataframe thead th {\n",
       "        text-align: right;\n",
       "    }\n",
       "</style>\n",
       "<table border=\"1\" class=\"dataframe\">\n",
       "  <thead>\n",
       "    <tr style=\"text-align: right;\">\n",
       "      <th></th>\n",
       "      <th>year</th>\n",
       "      <th>month</th>\n",
       "      <th>day</th>\n",
       "      <th>week</th>\n",
       "      <th>temp_2</th>\n",
       "      <th>temp_1</th>\n",
       "      <th>average</th>\n",
       "      <th>actual</th>\n",
       "      <th>friend</th>\n",
       "    </tr>\n",
       "  </thead>\n",
       "  <tbody>\n",
       "    <tr>\n",
       "      <th>0</th>\n",
       "      <td>2016</td>\n",
       "      <td>1</td>\n",
       "      <td>1</td>\n",
       "      <td>Fri</td>\n",
       "      <td>45</td>\n",
       "      <td>45</td>\n",
       "      <td>45.6</td>\n",
       "      <td>45</td>\n",
       "      <td>29</td>\n",
       "    </tr>\n",
       "    <tr>\n",
       "      <th>1</th>\n",
       "      <td>2016</td>\n",
       "      <td>1</td>\n",
       "      <td>2</td>\n",
       "      <td>Sat</td>\n",
       "      <td>44</td>\n",
       "      <td>45</td>\n",
       "      <td>45.7</td>\n",
       "      <td>44</td>\n",
       "      <td>61</td>\n",
       "    </tr>\n",
       "    <tr>\n",
       "      <th>2</th>\n",
       "      <td>2016</td>\n",
       "      <td>1</td>\n",
       "      <td>3</td>\n",
       "      <td>Sun</td>\n",
       "      <td>45</td>\n",
       "      <td>44</td>\n",
       "      <td>45.8</td>\n",
       "      <td>41</td>\n",
       "      <td>56</td>\n",
       "    </tr>\n",
       "    <tr>\n",
       "      <th>3</th>\n",
       "      <td>2016</td>\n",
       "      <td>1</td>\n",
       "      <td>4</td>\n",
       "      <td>Mon</td>\n",
       "      <td>44</td>\n",
       "      <td>41</td>\n",
       "      <td>45.9</td>\n",
       "      <td>40</td>\n",
       "      <td>53</td>\n",
       "    </tr>\n",
       "    <tr>\n",
       "      <th>4</th>\n",
       "      <td>2016</td>\n",
       "      <td>1</td>\n",
       "      <td>5</td>\n",
       "      <td>Tues</td>\n",
       "      <td>41</td>\n",
       "      <td>40</td>\n",
       "      <td>46.0</td>\n",
       "      <td>44</td>\n",
       "      <td>41</td>\n",
       "    </tr>\n",
       "  </tbody>\n",
       "</table>\n",
       "</div>"
      ],
      "text/plain": [
       "   year  month  day  week  temp_2  temp_1  average  actual  friend\n",
       "0  2016      1    1   Fri      45      45     45.6      45      29\n",
       "1  2016      1    2   Sat      44      45     45.7      44      61\n",
       "2  2016      1    3   Sun      45      44     45.8      41      56\n",
       "3  2016      1    4   Mon      44      41     45.9      40      53\n",
       "4  2016      1    5  Tues      41      40     46.0      44      41"
      ]
     },
     "execution_count": 2,
     "metadata": {},
     "output_type": "execute_result"
    }
   ],
   "source": [
    "features = pd.read_csv('temps.csv')\n",
    "\n",
    "#看看数据长什么样子\n",
    "features.head()"
   ]
  },
  {
   "cell_type": "markdown",
   "metadata": {},
   "source": [
    "数据表中\n",
    "* year,moth,day,week分别表示的具体的时间\n",
    "* temp_2：前天的最高温度值\n",
    "* temp_1：昨天的最高温度值\n",
    "* average：在历史中，每年这一天的平均最高温度值\n",
    "* actual：这就是我们的标签值了，当天的真实最高温度\n",
    "* friend：这一列可能是凑热闹的，你的朋友猜测的可能值，咱们不管它就好了"
   ]
  },
  {
   "cell_type": "code",
   "execution_count": 3,
   "metadata": {},
   "outputs": [
    {
     "name": "stdout",
     "output_type": "stream",
     "text": [
      "数据维度: (348, 9)\n"
     ]
    }
   ],
   "source": [
    "print('数据维度:', features.shape)"
   ]
  },
  {
   "cell_type": "code",
   "execution_count": 4,
   "metadata": {
    "collapsed": true
   },
   "outputs": [],
   "source": [
    "# 处理时间数据\n",
    "import datetime\n",
    "\n",
    "# 分别得到年，月，日\n",
    "years = features['year']\n",
    "months = features['month']\n",
    "days = features['day']\n",
    "\n",
    "# datetime格式\n",
    "dates = [str(int(year)) + '-' + str(int(month)) + '-' + str(int(day)) for year, month, day in zip(years, months, days)]\n",
    "dates = [datetime.datetime.strptime(date, '%Y-%m-%d') for date in dates]"
   ]
  },
  {
   "cell_type": "code",
   "execution_count": 5,
   "metadata": {},
   "outputs": [
    {
     "data": {
      "text/plain": [
       "[datetime.datetime(2016, 1, 1, 0, 0),\n",
       " datetime.datetime(2016, 1, 2, 0, 0),\n",
       " datetime.datetime(2016, 1, 3, 0, 0),\n",
       " datetime.datetime(2016, 1, 4, 0, 0),\n",
       " datetime.datetime(2016, 1, 5, 0, 0)]"
      ]
     },
     "execution_count": 5,
     "metadata": {},
     "output_type": "execute_result"
    }
   ],
   "source": [
    "dates[:5]"
   ]
  },
  {
   "cell_type": "code",
   "execution_count": 6,
   "metadata": {},
   "outputs": [
    {
     "data": {
      "image/png": "[encoded data removed]",
      "text/plain": [
       "<Figure size 720x720 with 4 Axes>"
      ]
     },
     "metadata": {},
     "output_type": "display_data"
    }
   ],
   "source": [
    "# 准备画图\n",
    "# 指定默认风格\n",
    "plt.style.use('fivethirtyeight')\n",
    "\n",
    "# 设置布局\n",
    "fig, ((ax1, ax2), (ax3, ax4)) = plt.subplots(nrows=2, ncols=2, figsize = (10,10))\n",
    "fig.autofmt_xdate(rotation = 45)\n",
    "\n",
    "# 标签值\n",
    "ax1.plot(dates, features['actual'])\n",
    "ax1.set_xlabel(''); ax1.set_ylabel('Temperature'); ax1.set_title('Max Temp')\n",
    "\n",
    "# 昨天\n",
    "ax2.plot(dates, features['temp_1'])\n",
    "ax2.set_xlabel(''); ax2.set_ylabel('Temperature'); ax2.set_title('Previous Max Temp')\n",
    "\n",
    "# 前天\n",
    "ax3.plot(dates, features['temp_2'])\n",
    "ax3.set_xlabel('Date'); ax3.set_ylabel('Temperature'); ax3.set_title('Two Days Prior Max Temp')\n",
    "\n",
    "# 我的逗逼朋友\n",
    "ax4.plot(dates, features['friend'])\n",
    "ax4.set_xlabel('Date'); ax4.set_ylabel('Temperature'); ax4.set_title('Friend Estimate')\n",
    "\n",
    "plt.tight_layout(pad=2)"
   ]
  },
  {
   "cell_type": "code",
   "execution_count": 7,
   "metadata": {},
   "outputs": [
    {
     "data": {
      "text/html": [
       "<div>\n",
       "<style scoped>\n",
       "    .dataframe tbody tr th:only-of-type {\n",
       "        vertical-align: middle;\n",
       "    }\n",
       "\n",
       "    .dataframe tbody tr th {\n",
       "        vertical-align: top;\n",
       "    }\n",
       "\n",
       "    .dataframe thead th {\n",
       "        text-align: right;\n",
       "    }\n",
       "</style>\n",
       "<table border=\"1\" class=\"dataframe\">\n",
       "  <thead>\n",
       "    <tr style=\"text-align: right;\">\n",
       "      <th></th>\n",
       "      <th>year</th>\n",
       "      <th>month</th>\n",
       "      <th>day</th>\n",
       "      <th>temp_2</th>\n",
       "      <th>temp_1</th>\n",
       "      <th>average</th>\n",
       "      <th>actual</th>\n",
       "      <th>friend</th>\n",
       "      <th>week_Fri</th>\n",
       "      <th>week_Mon</th>\n",
       "      <th>week_Sat</th>\n",
       "      <th>week_Sun</th>\n",
       "      <th>week_Thurs</th>\n",
       "      <th>week_Tues</th>\n",
       "      <th>week_Wed</th>\n",
       "    </tr>\n",
       "  </thead>\n",
       "  <tbody>\n",
       "    <tr>\n",
       "      <th>0</th>\n",
       "      <td>2016</td>\n",
       "      <td>1</td>\n",
       "      <td>1</td>\n",
       "      <td>45</td>\n",
       "      <td>45</td>\n",
       "      <td>45.6</td>\n",
       "      <td>45</td>\n",
       "      <td>29</td>\n",
       "      <td>1</td>\n",
       "      <td>0</td>\n",
       "      <td>0</td>\n",
       "      <td>0</td>\n",
       "      <td>0</td>\n",
       "      <td>0</td>\n",
       "      <td>0</td>\n",
       "    </tr>\n",
       "    <tr>\n",
       "      <th>1</th>\n",
       "      <td>2016</td>\n",
       "      <td>1</td>\n",
       "      <td>2</td>\n",
       "      <td>44</td>\n",
       "      <td>45</td>\n",
       "      <td>45.7</td>\n",
       "      <td>44</td>\n",
       "      <td>61</td>\n",
       "      <td>0</td>\n",
       "      <td>0</td>\n",
       "      <td>1</td>\n",
       "      <td>0</td>\n",
       "      <td>0</td>\n",
       "      <td>0</td>\n",
       "      <td>0</td>\n",
       "    </tr>\n",
       "    <tr>\n",
       "      <th>2</th>\n",
       "      <td>2016</td>\n",
       "      <td>1</td>\n",
       "      <td>3</td>\n",
       "      <td>45</td>\n",
       "      <td>44</td>\n",
       "      <td>45.8</td>\n",
       "      <td>41</td>\n",
       "      <td>56</td>\n",
       "      <td>0</td>\n",
       "      <td>0</td>\n",
       "      <td>0</td>\n",
       "      <td>1</td>\n",
       "      <td>0</td>\n",
       "      <td>0</td>\n",
       "      <td>0</td>\n",
       "    </tr>\n",
       "    <tr>\n",
       "      <th>3</th>\n",
       "      <td>2016</td>\n",
       "      <td>1</td>\n",
       "      <td>4</td>\n",
       "      <td>44</td>\n",
       "      <td>41</td>\n",
       "      <td>45.9</td>\n",
       "      <td>40</td>\n",
       "      <td>53</td>\n",
       "      <td>0</td>\n",
       "      <td>1</td>\n",
       "      <td>0</td>\n",
       "      <td>0</td>\n",
       "      <td>0</td>\n",
       "      <td>0</td>\n",
       "      <td>0</td>\n",
       "    </tr>\n",
       "    <tr>\n",
       "      <th>4</th>\n",
       "      <td>2016</td>\n",
       "      <td>1</td>\n",
       "      <td>5</td>\n",
       "      <td>41</td>\n",
       "      <td>40</td>\n",
       "      <td>46.0</td>\n",
       "      <td>44</td>\n",
       "      <td>41</td>\n",
       "      <td>0</td>\n",
       "      <td>0</td>\n",
       "      <td>0</td>\n",
       "      <td>0</td>\n",
       "      <td>0</td>\n",
       "      <td>1</td>\n",
       "      <td>0</td>\n",
       "    </tr>\n",
       "  </tbody>\n",
       "</table>\n",
       "</div>"
      ],
      "text/plain": [
       "   year  month  day  temp_2  temp_1  average  actual  friend  week_Fri  \\\n",
       "0  2016      1    1      45      45     45.6      45      29         1   \n",
       "1  2016      1    2      44      45     45.7      44      61         0   \n",
       "2  2016      1    3      45      44     45.8      41      56         0   \n",
       "3  2016      1    4      44      41     45.9      40      53         0   \n",
       "4  2016      1    5      41      40     46.0      44      41         0   \n",
       "\n",
       "   week_Mon  week_Sat  week_Sun  week_Thurs  week_Tues  week_Wed  \n",
       "0         0         0         0           0          0         0  \n",
       "1         0         1         0           0          0         0  \n",
       "2         0         0         1           0          0         0  \n",
       "3         1         0         0           0          0         0  \n",
       "4         0         0         0           0          1         0  "
      ]
     },
     "execution_count": 7,
     "metadata": {},
     "output_type": "execute_result"
    }
   ],
   "source": [
    "# 独热编码\n",
    "features = pd.get_dummies(features)\n",
    "features.head(5)"
   ]
  },
  {
   "cell_type": "code",
   "execution_count": 8,
   "metadata": {
    "collapsed": true
   },
   "outputs": [],
   "source": [
    "# 标签\n",
    "labels = np.array(features['actual'])\n",
    "\n",
    "# 在特征中去掉标签\n",
    "features= features.drop('actual', axis = 1)\n",
    "\n",
    "# 名字单独保存一下，以备后患\n",
    "feature_list = list(features.columns)\n",
    "\n",
    "# 转换成合适的格式\n",
    "features = np.array(features)"
   ]
  },
  {
   "cell_type": "code",
   "execution_count": 9,
   "metadata": {},
   "outputs": [
    {
     "data": {
      "text/plain": [
       "(348, 14)"
      ]
     },
     "execution_count": 9,
     "metadata": {},
     "output_type": "execute_result"
    }
   ],
   "source": [
    "features.shape"
   ]
  },
  {
   "cell_type": "code",
   "execution_count": 10,
   "metadata": {},
   "outputs": [],
   "source": [
    "from sklearn import preprocessing\n",
    "input_features = preprocessing.StandardScaler().fit_transform(features)"
   ]
  },
  {
   "cell_type": "code",
   "execution_count": 11,
   "metadata": {},
   "outputs": [
    {
     "data": {
      "text/plain": [
       "array([ 0.        , -1.5678393 , -1.65682171, -1.48452388, -1.49443549,\n",
       "       -1.3470703 , -1.98891668,  2.44131112, -0.40482045, -0.40961596,\n",
       "       -0.40482045, -0.40482045, -0.41913682, -0.40482045])"
      ]
     },
     "execution_count": 11,
     "metadata": {},
     "output_type": "execute_result"
    }
   ],
   "source": [
    "input_features[0]"
   ]
  },
  {
   "cell_type": "markdown",
   "metadata": {},
   "source": [
    "### 基于Keras构建网络模型\n",
    "一些常用参数已经列出，如下所示："
   ]
  },
  {
   "cell_type": "markdown",
   "metadata": {},
   "source": [
    "- activation：激活函数的选择，一般常用relu\n",
    "- kernel_initializer,bias_initializer：权重与偏置参数的初始化方法，有时候不收敛换种初始化就突然好使了。。。玄学\n",
    "- kernel_regularizer，bias_regularizer：要不要加入正则化，\n",
    "- inputs：输入，可以自己指定，也可以让网络自动选\n",
    "- units：神经元个数"
   ]
  },
  {
   "cell_type": "markdown",
   "metadata": {},
   "source": [
    "按顺序构造网络模型"
   ]
  },
  {
   "cell_type": "code",
   "execution_count": 12,
   "metadata": {
    "collapsed": true
   },
   "outputs": [],
   "source": [
    "model = tf.keras.Sequential()\n",
    "model.add(layers.Dense(16))\n",
    "model.add(layers.Dense(32))\n",
    "model.add(layers.Dense(1))"
   ]
  },
  {
   "cell_type": "markdown",
   "metadata": {},
   "source": [
    "compile相当于对网络进行配置，指定好优化器和损失函数等"
   ]
  },
  {
   "cell_type": "code",
   "execution_count": 13,
   "metadata": {
    "collapsed": true
   },
   "outputs": [],
   "source": [
    "model.compile(optimizer=tf.keras.optimizers.SGD(0.001),\n",
    "             loss='mean_squared_error')"
   ]
  },
  {
   "cell_type": "code",
   "execution_count": 15,
   "metadata": {},
   "outputs": [
    {
     "name": "stdout",
     "output_type": "stream",
     "text": [
      "Train on 261 samples, validate on 87 samples\n",
      "Epoch 1/10\n",
      "261/261 [==============================] - 0s 1ms/sample - loss: 4230.8885 - val_loss: 3223.2145\n",
      "Epoch 2/10\n",
      "261/261 [==============================] - 0s 46us/sample - loss: 1831.5263 - val_loss: 4660.1733\n",
      "Epoch 3/10\n",
      "261/261 [==============================] - 0s 46us/sample - loss: 239.1735 - val_loss: 3092.5291\n",
      "Epoch 4/10\n",
      "261/261 [==============================] - 0s 46us/sample - loss: 85.0330 - val_loss: 2127.5367\n",
      "Epoch 5/10\n",
      "261/261 [==============================] - 0s 42us/sample - loss: 82.0088 - val_loss: 1845.6744\n",
      "Epoch 6/10\n",
      "261/261 [==============================] - 0s 44us/sample - loss: 61.0348 - val_loss: 1543.7181\n",
      "Epoch 7/10\n",
      "261/261 [==============================] - 0s 50us/sample - loss: 47.6993 - val_loss: 1296.7659\n",
      "Epoch 8/10\n",
      "261/261 [==============================] - 0s 48us/sample - loss: 41.4332 - val_loss: 1300.5386\n",
      "Epoch 9/10\n",
      "261/261 [==============================] - 0s 44us/sample - loss: 79.7528 - val_loss: 993.3353\n",
      "Epoch 10/10\n",
      "261/261 [==============================] - 0s 40us/sample - loss: 40.6906 - val_loss: 718.1126\n"
     ]
    },
    {
     "data": {
      "text/plain": [
       "<tensorflow.python.keras.callbacks.History at 0x26b0868ad30>"
      ]
     },
     "execution_count": 15,
     "metadata": {},
     "output_type": "execute_result"
    }
   ],
   "source": [
    "model.fit(input_features, labels, validation_split=0.25, epochs=10, batch_size=64)"
   ]
  },
  {
   "cell_type": "code",
   "execution_count": 13,
   "metadata": {},
   "outputs": [
    {
     "data": {
      "text/plain": [
       "(348, 14)"
      ]
     },
     "execution_count": 13,
     "metadata": {},
     "output_type": "execute_result"
    }
   ],
   "source": [
    "input_features.shape"
   ]
  },
  {
   "cell_type": "markdown",
   "metadata": {},
   "source": [
    "似乎存在一些问题，模型还没有完全收敛，能不能调些参数呢"
   ]
  },
  {
   "cell_type": "code",
   "execution_count": 16,
   "metadata": {},
   "outputs": [
    {
     "name": "stdout",
     "output_type": "stream",
     "text": [
      "Model: \"sequential\"\n",
      "_________________________________________________________________\n",
      "Layer (type)                 Output Shape              Param #   \n",
      "=================================================================\n",
      "dense (Dense)                multiple                  240       \n",
      "_________________________________________________________________\n",
      "dense_1 (Dense)              multiple                  544       \n",
      "_________________________________________________________________\n",
      "dense_2 (Dense)              multiple                  33        \n",
      "=================================================================\n",
      "Total params: 817\n",
      "Trainable params: 817\n",
      "Non-trainable params: 0\n",
      "_________________________________________________________________\n"
     ]
    }
   ],
   "source": [
    "model.summary()"
   ]
  },
  {
   "cell_type": "markdown",
   "metadata": {},
   "source": [
    "### 更改初始化方法后"
   ]
  },
  {
   "cell_type": "code",
   "execution_count": 17,
   "metadata": {
    "collapsed": true
   },
   "outputs": [],
   "source": [
    "model = tf.keras.Sequential()\n",
    "model.add(layers.Dense(16,kernel_initializer='random_normal'))\n",
    "model.add(layers.Dense(32,kernel_initializer='random_normal'))\n",
    "model.add(layers.Dense(1,kernel_initializer='random_normal'))"
   ]
  },
  {
   "cell_type": "code",
   "execution_count": 18,
   "metadata": {},
   "outputs": [
    {
     "name": "stdout",
     "output_type": "stream",
     "text": [
      "Train on 261 samples, validate on 87 samples\n",
      "Epoch 1/100\n",
      "261/261 [==============================] - 0s 740us/sample - loss: 4390.3344 - val_loss: 2867.9731\n",
      "Epoch 2/100\n",
      "261/261 [==============================] - 0s 42us/sample - loss: 4292.7865 - val_loss: 2785.3874\n",
      "Epoch 3/100\n",
      "261/261 [==============================] - 0s 40us/sample - loss: 4176.2724 - val_loss: 2669.8056\n",
      "Epoch 4/100\n",
      "261/261 [==============================] - 0s 46us/sample - loss: 3968.5102 - val_loss: 2443.1493\n",
      "Epoch 5/100\n",
      "261/261 [==============================] - 0s 46us/sample - loss: 3143.2029 - val_loss: 3117.5553\n",
      "Epoch 6/100\n",
      "261/261 [==============================] - 0s 44us/sample - loss: 289.9110 - val_loss: 1978.6787\n",
      "Epoch 7/100\n",
      "261/261 [==============================] - 0s 40us/sample - loss: 69.9723 - val_loss: 1530.0505\n",
      "Epoch 8/100\n",
      "261/261 [==============================] - 0s 44us/sample - loss: 59.0920 - val_loss: 1040.2967\n",
      "Epoch 9/100\n",
      "261/261 [==============================] - 0s 44us/sample - loss: 75.9049 - val_loss: 732.3013\n",
      "Epoch 10/100\n",
      "261/261 [==============================] - 0s 44us/sample - loss: 62.1487 - val_loss: 583.4903\n",
      "Epoch 11/100\n",
      "261/261 [==============================] - 0s 40us/sample - loss: 39.9041 - val_loss: 475.7187\n",
      "Epoch 12/100\n",
      "261/261 [==============================] - 0s 46us/sample - loss: 102.6017 - val_loss: 430.4911\n",
      "Epoch 13/100\n",
      "261/261 [==============================] - 0s 44us/sample - loss: 77.8140 - val_loss: 407.0616\n",
      "Epoch 14/100\n",
      "261/261 [==============================] - 0s 42us/sample - loss: 29.9435 - val_loss: 316.4755\n",
      "Epoch 15/100\n",
      "261/261 [==============================] - 0s 42us/sample - loss: 31.4941 - val_loss: 235.3518\n",
      "Epoch 16/100\n",
      "261/261 [==============================] - 0s 44us/sample - loss: 28.4931 - val_loss: 199.6591\n",
      "Epoch 17/100\n",
      "261/261 [==============================] - 0s 42us/sample - loss: 32.6009 - val_loss: 195.6104\n",
      "Epoch 18/100\n",
      "261/261 [==============================] - 0s 40us/sample - loss: 30.3067 - val_loss: 138.1820\n",
      "Epoch 19/100\n",
      "261/261 [==============================] - 0s 44us/sample - loss: 28.0511 - val_loss: 106.8859\n",
      "Epoch 20/100\n",
      "261/261 [==============================] - 0s 39us/sample - loss: 27.6166 - val_loss: 193.6495\n",
      "Epoch 21/100\n",
      "261/261 [==============================] - 0s 46us/sample - loss: 32.5385 - val_loss: 69.0689\n",
      "Epoch 22/100\n",
      "261/261 [==============================] - 0s 42us/sample - loss: 27.2380 - val_loss: 128.0276\n",
      "Epoch 23/100\n",
      "261/261 [==============================] - 0s 44us/sample - loss: 26.7989 - val_loss: 77.6140\n",
      "Epoch 24/100\n",
      "261/261 [==============================] - 0s 40us/sample - loss: 60.7338 - val_loss: 98.2539\n",
      "Epoch 25/100\n",
      "261/261 [==============================] - 0s 42us/sample - loss: 37.6760 - val_loss: 106.5133\n",
      "Epoch 26/100\n",
      "261/261 [==============================] - 0s 44us/sample - loss: 28.0472 - val_loss: 58.9111\n",
      "Epoch 27/100\n",
      "261/261 [==============================] - 0s 46us/sample - loss: 32.8710 - val_loss: 97.9327\n",
      "Epoch 28/100\n",
      "261/261 [==============================] - 0s 44us/sample - loss: 75.2490 - val_loss: 45.1842\n",
      "Epoch 29/100\n",
      "261/261 [==============================] - 0s 42us/sample - loss: 30.1678 - val_loss: 50.6422\n",
      "Epoch 30/100\n",
      "261/261 [==============================] - 0s 38us/sample - loss: 26.7630 - val_loss: 61.1050\n",
      "Epoch 31/100\n",
      "261/261 [==============================] - 0s 50us/sample - loss: 31.3113 - val_loss: 31.2318\n",
      "Epoch 32/100\n",
      "261/261 [==============================] - 0s 42us/sample - loss: 35.1488 - val_loss: 50.5891\n",
      "Epoch 33/100\n",
      "261/261 [==============================] - 0s 44us/sample - loss: 27.0896 - val_loss: 47.7231\n",
      "Epoch 34/100\n",
      "261/261 [==============================] - 0s 38us/sample - loss: 27.7038 - val_loss: 30.4009\n",
      "Epoch 35/100\n",
      "261/261 [==============================] - 0s 40us/sample - loss: 27.3872 - val_loss: 27.8639\n",
      "Epoch 36/100\n",
      "261/261 [==============================] - 0s 40us/sample - loss: 25.2237 - val_loss: 41.6037\n",
      "Epoch 37/100\n",
      "261/261 [==============================] - 0s 40us/sample - loss: 30.4882 - val_loss: 27.7488\n",
      "Epoch 38/100\n",
      "261/261 [==============================] - 0s 42us/sample - loss: 26.9322 - val_loss: 58.6318\n",
      "Epoch 39/100\n",
      "261/261 [==============================] - 0s 44us/sample - loss: 27.5752 - val_loss: 42.7868\n",
      "Epoch 40/100\n",
      "261/261 [==============================] - 0s 46us/sample - loss: 27.6780 - val_loss: 39.5683\n",
      "Epoch 41/100\n",
      "261/261 [==============================] - 0s 40us/sample - loss: 27.9817 - val_loss: 29.5778\n",
      "Epoch 42/100\n",
      "261/261 [==============================] - 0s 38us/sample - loss: 57.7251 - val_loss: 58.2769\n",
      "Epoch 43/100\n",
      "261/261 [==============================] - 0s 42us/sample - loss: 48.5261 - val_loss: 26.5406\n",
      "Epoch 44/100\n",
      "261/261 [==============================] - 0s 42us/sample - loss: 25.3562 - val_loss: 40.2485\n",
      "Epoch 45/100\n",
      "261/261 [==============================] - 0s 46us/sample - loss: 33.6065 - val_loss: 30.6311\n",
      "Epoch 46/100\n",
      "261/261 [==============================] - 0s 46us/sample - loss: 35.7015 - val_loss: 28.7009\n",
      "Epoch 47/100\n",
      "261/261 [==============================] - 0s 42us/sample - loss: 29.8583 - val_loss: 34.4336\n",
      "Epoch 48/100\n",
      "261/261 [==============================] - 0s 38us/sample - loss: 41.0492 - val_loss: 56.2051\n",
      "Epoch 49/100\n",
      "261/261 [==============================] - 0s 42us/sample - loss: 63.6014 - val_loss: 21.3043\n",
      "Epoch 50/100\n",
      "261/261 [==============================] - 0s 44us/sample - loss: 29.8290 - val_loss: 56.6931\n",
      "Epoch 51/100\n",
      "261/261 [==============================] - 0s 42us/sample - loss: 30.4442 - val_loss: 29.7389\n",
      "Epoch 52/100\n",
      "261/261 [==============================] - 0s 40us/sample - loss: 23.7445 - val_loss: 29.1395\n",
      "Epoch 53/100\n",
      "261/261 [==============================] - 0s 42us/sample - loss: 30.0566 - val_loss: 25.3457\n",
      "Epoch 54/100\n",
      "261/261 [==============================] - 0s 40us/sample - loss: 23.6144 - val_loss: 54.8336\n",
      "Epoch 55/100\n",
      "261/261 [==============================] - 0s 44us/sample - loss: 31.0458 - val_loss: 23.2703\n",
      "Epoch 56/100\n",
      "261/261 [==============================] - 0s 44us/sample - loss: 29.3335 - val_loss: 18.8951\n",
      "Epoch 57/100\n",
      "261/261 [==============================] - 0s 42us/sample - loss: 30.4957 - val_loss: 17.5985\n",
      "Epoch 58/100\n",
      "261/261 [==============================] - 0s 42us/sample - loss: 29.8377 - val_loss: 25.9318\n",
      "Epoch 59/100\n",
      "261/261 [==============================] - 0s 40us/sample - loss: 26.6528 - val_loss: 16.1361\n",
      "Epoch 60/100\n",
      "261/261 [==============================] - 0s 40us/sample - loss: 27.0328 - val_loss: 21.8044\n",
      "Epoch 61/100\n",
      "261/261 [==============================] - 0s 40us/sample - loss: 31.7337 - val_loss: 17.7899\n",
      "Epoch 62/100\n",
      "261/261 [==============================] - 0s 40us/sample - loss: 37.1164 - val_loss: 21.0036\n",
      "Epoch 63/100\n",
      "261/261 [==============================] - 0s 40us/sample - loss: 25.3416 - val_loss: 29.2095\n",
      "Epoch 64/100\n",
      "261/261 [==============================] - 0s 39us/sample - loss: 29.7135 - val_loss: 23.5592\n",
      "Epoch 65/100\n",
      "261/261 [==============================] - 0s 42us/sample - loss: 27.0533 - val_loss: 26.2690\n",
      "Epoch 66/100\n",
      "261/261 [==============================] - 0s 42us/sample - loss: 29.5646 - val_loss: 29.6933\n",
      "Epoch 67/100\n",
      "261/261 [==============================] - 0s 44us/sample - loss: 26.1472 - val_loss: 17.6012\n",
      "Epoch 68/100\n",
      "261/261 [==============================] - 0s 42us/sample - loss: 27.4576 - val_loss: 50.7435\n",
      "Epoch 69/100\n",
      "261/261 [==============================] - 0s 40us/sample - loss: 65.4835 - val_loss: 41.3060\n",
      "Epoch 70/100\n",
      "261/261 [==============================] - 0s 44us/sample - loss: 44.5524 - val_loss: 38.2307\n",
      "Epoch 71/100\n",
      "261/261 [==============================] - 0s 39us/sample - loss: 25.2075 - val_loss: 27.1007\n",
      "Epoch 72/100\n",
      "261/261 [==============================] - 0s 40us/sample - loss: 25.8433 - val_loss: 49.8812\n",
      "Epoch 73/100\n",
      "261/261 [==============================] - 0s 42us/sample - loss: 58.8582 - val_loss: 34.3139\n",
      "Epoch 74/100\n",
      "261/261 [==============================] - 0s 42us/sample - loss: 26.1582 - val_loss: 24.9285\n",
      "Epoch 75/100\n",
      "261/261 [==============================] - 0s 42us/sample - loss: 25.8284 - val_loss: 68.3868\n",
      "Epoch 76/100\n",
      "261/261 [==============================] - 0s 40us/sample - loss: 81.2302 - val_loss: 35.0563\n"
     ]
    },
    {
     "name": "stdout",
     "output_type": "stream",
     "text": [
      "Epoch 77/100\n",
      "261/261 [==============================] - 0s 44us/sample - loss: 36.6636 - val_loss: 19.9929\n",
      "Epoch 78/100\n",
      "261/261 [==============================] - 0s 42us/sample - loss: 28.7767 - val_loss: 22.9022\n",
      "Epoch 79/100\n",
      "261/261 [==============================] - 0s 40us/sample - loss: 26.6874 - val_loss: 19.8164\n",
      "Epoch 80/100\n",
      "261/261 [==============================] - 0s 40us/sample - loss: 23.5362 - val_loss: 20.2093\n",
      "Epoch 81/100\n",
      "261/261 [==============================] - 0s 40us/sample - loss: 29.8332 - val_loss: 18.6172\n",
      "Epoch 82/100\n",
      "261/261 [==============================] - 0s 43us/sample - loss: 23.2960 - val_loss: 33.9709\n",
      "Epoch 83/100\n",
      "261/261 [==============================] - 0s 44us/sample - loss: 32.9772 - val_loss: 21.7153\n",
      "Epoch 84/100\n",
      "261/261 [==============================] - 0s 40us/sample - loss: 38.9816 - val_loss: 20.7470\n",
      "Epoch 85/100\n",
      "261/261 [==============================] - 0s 40us/sample - loss: 25.2789 - val_loss: 48.1813\n",
      "Epoch 86/100\n",
      "261/261 [==============================] - 0s 41us/sample - loss: 35.3405 - val_loss: 22.1415\n",
      "Epoch 87/100\n",
      "261/261 [==============================] - 0s 42us/sample - loss: 28.4159 - val_loss: 23.0050\n",
      "Epoch 88/100\n",
      "261/261 [==============================] - 0s 42us/sample - loss: 29.6964 - val_loss: 19.9407\n",
      "Epoch 89/100\n",
      "261/261 [==============================] - 0s 42us/sample - loss: 31.6607 - val_loss: 37.3190\n",
      "Epoch 90/100\n",
      "261/261 [==============================] - 0s 40us/sample - loss: 30.9006 - val_loss: 33.7892\n",
      "Epoch 91/100\n",
      "261/261 [==============================] - 0s 40us/sample - loss: 56.4972 - val_loss: 36.4928\n",
      "Epoch 92/100\n",
      "261/261 [==============================] - 0s 38us/sample - loss: 33.3065 - val_loss: 26.6903\n",
      "Epoch 93/100\n",
      "261/261 [==============================] - 0s 40us/sample - loss: 26.4773 - val_loss: 45.4445\n",
      "Epoch 94/100\n",
      "261/261 [==============================] - 0s 42us/sample - loss: 43.8893 - val_loss: 32.8900\n",
      "Epoch 95/100\n",
      "261/261 [==============================] - 0s 42us/sample - loss: 43.2685 - val_loss: 22.4460\n",
      "Epoch 96/100\n",
      "261/261 [==============================] - 0s 42us/sample - loss: 29.4086 - val_loss: 28.8522\n",
      "Epoch 97/100\n",
      "261/261 [==============================] - 0s 40us/sample - loss: 32.0869 - val_loss: 18.8715\n",
      "Epoch 98/100\n",
      "261/261 [==============================] - 0s 40us/sample - loss: 31.3147 - val_loss: 23.6752\n",
      "Epoch 99/100\n",
      "261/261 [==============================] - 0s 42us/sample - loss: 27.9759 - val_loss: 41.2864\n",
      "Epoch 100/100\n",
      "261/261 [==============================] - 0s 42us/sample - loss: 44.5327 - val_loss: 48.2574\n"
     ]
    },
    {
     "data": {
      "text/plain": [
       "<tensorflow.python.keras.callbacks.History at 0x26b0742c400>"
      ]
     },
     "execution_count": 18,
     "metadata": {},
     "output_type": "execute_result"
    }
   ],
   "source": [
    "model.compile(optimizer=tf.keras.optimizers.SGD(0.001),\n",
    "             loss='mean_squared_error')\n",
    "model.fit(input_features, labels, validation_split=0.25, epochs=100, batch_size=64)"
   ]
  },
  {
   "cell_type": "markdown",
   "metadata": {},
   "source": [
    "### 加入正则化惩罚项"
   ]
  },
  {
   "cell_type": "code",
   "execution_count": 19,
   "metadata": {},
   "outputs": [
    {
     "name": "stdout",
     "output_type": "stream",
     "text": [
      "Train on 261 samples, validate on 87 samples\n",
      "Epoch 1/100\n",
      "261/261 [==============================] - 0s 949us/sample - loss: 4389.3030 - val_loss: 2865.5819\n",
      "Epoch 2/100\n",
      "261/261 [==============================] - 0s 44us/sample - loss: 4287.5883 - val_loss: 2774.4508\n",
      "Epoch 3/100\n",
      "261/261 [==============================] - 0s 44us/sample - loss: 4151.1590 - val_loss: 2626.8111\n",
      "Epoch 4/100\n",
      "261/261 [==============================] - 0s 50us/sample - loss: 3840.1522 - val_loss: 2364.1728\n",
      "Epoch 5/100\n",
      "261/261 [==============================] - 0s 44us/sample - loss: 1960.2639 - val_loss: 2154.5328\n",
      "Epoch 6/100\n",
      "261/261 [==============================] - 0s 44us/sample - loss: 77.4397 - val_loss: 1511.8010\n",
      "Epoch 7/100\n",
      "261/261 [==============================] - 0s 42us/sample - loss: 151.6504 - val_loss: 1036.3978\n",
      "Epoch 8/100\n",
      "261/261 [==============================] - 0s 46us/sample - loss: 43.8807 - val_loss: 810.7299\n",
      "Epoch 9/100\n",
      "261/261 [==============================] - 0s 44us/sample - loss: 49.5645 - val_loss: 562.2503\n",
      "Epoch 10/100\n",
      "261/261 [==============================] - 0s 42us/sample - loss: 67.1255 - val_loss: 521.2115\n",
      "Epoch 11/100\n",
      "261/261 [==============================] - 0s 40us/sample - loss: 39.7992 - val_loss: 503.8201\n",
      "Epoch 12/100\n",
      "261/261 [==============================] - 0s 42us/sample - loss: 37.6043 - val_loss: 401.6834\n",
      "Epoch 13/100\n",
      "261/261 [==============================] - 0s 42us/sample - loss: 32.7548 - val_loss: 259.4793\n",
      "Epoch 14/100\n",
      "261/261 [==============================] - 0s 44us/sample - loss: 71.9605 - val_loss: 250.1762\n",
      "Epoch 15/100\n",
      "261/261 [==============================] - 0s 42us/sample - loss: 65.9564 - val_loss: 212.2657\n",
      "Epoch 16/100\n",
      "261/261 [==============================] - 0s 40us/sample - loss: 27.7161 - val_loss: 199.1810\n",
      "Epoch 17/100\n",
      "261/261 [==============================] - 0s 44us/sample - loss: 45.2026 - val_loss: 141.2697\n",
      "Epoch 18/100\n",
      "261/261 [==============================] - 0s 46us/sample - loss: 54.9991 - val_loss: 151.0609\n",
      "Epoch 19/100\n",
      "261/261 [==============================] - 0s 46us/sample - loss: 31.6758 - val_loss: 143.5633\n",
      "Epoch 20/100\n",
      "261/261 [==============================] - 0s 40us/sample - loss: 61.7772 - val_loss: 76.2339\n",
      "Epoch 21/100\n",
      "261/261 [==============================] - 0s 38us/sample - loss: 33.2855 - val_loss: 114.9372\n",
      "Epoch 22/100\n",
      "261/261 [==============================] - 0s 42us/sample - loss: 29.6326 - val_loss: 60.6774\n",
      "Epoch 23/100\n",
      "261/261 [==============================] - 0s 42us/sample - loss: 37.1030 - val_loss: 100.4011\n",
      "Epoch 24/100\n",
      "261/261 [==============================] - 0s 46us/sample - loss: 32.1717 - val_loss: 59.3467\n",
      "Epoch 25/100\n",
      "261/261 [==============================] - 0s 42us/sample - loss: 26.8241 - val_loss: 72.1212\n",
      "Epoch 26/100\n",
      "261/261 [==============================] - 0s 40us/sample - loss: 37.1086 - val_loss: 61.1105\n",
      "Epoch 27/100\n",
      "261/261 [==============================] - 0s 38us/sample - loss: 36.5669 - val_loss: 88.6749\n",
      "Epoch 28/100\n",
      "261/261 [==============================] - 0s 44us/sample - loss: 35.1289 - val_loss: 61.3239\n",
      "Epoch 29/100\n",
      "261/261 [==============================] - 0s 46us/sample - loss: 30.7850 - val_loss: 50.6084\n",
      "Epoch 30/100\n",
      "261/261 [==============================] - 0s 44us/sample - loss: 27.6588 - val_loss: 39.1173\n",
      "Epoch 31/100\n",
      "261/261 [==============================] - 0s 44us/sample - loss: 36.5442 - val_loss: 95.4890\n",
      "Epoch 32/100\n",
      "261/261 [==============================] - 0s 44us/sample - loss: 81.3994 - val_loss: 34.5051\n",
      "Epoch 33/100\n",
      "261/261 [==============================] - 0s 42us/sample - loss: 30.7263 - val_loss: 34.0030\n",
      "Epoch 34/100\n",
      "261/261 [==============================] - 0s 50us/sample - loss: 41.5951 - val_loss: 53.0599\n",
      "Epoch 35/100\n",
      "261/261 [==============================] - 0s 48us/sample - loss: 31.7610 - val_loss: 36.2126\n",
      "Epoch 36/100\n",
      "261/261 [==============================] - 0s 52us/sample - loss: 37.3327 - val_loss: 42.1191\n",
      "Epoch 37/100\n",
      "261/261 [==============================] - 0s 42us/sample - loss: 29.4091 - val_loss: 19.9035\n",
      "Epoch 38/100\n",
      "261/261 [==============================] - 0s 44us/sample - loss: 31.5918 - val_loss: 35.6228\n",
      "Epoch 39/100\n",
      "261/261 [==============================] - 0s 42us/sample - loss: 31.4814 - val_loss: 49.8890\n",
      "Epoch 40/100\n",
      "261/261 [==============================] - 0s 44us/sample - loss: 44.5012 - val_loss: 26.2235\n",
      "Epoch 41/100\n",
      "261/261 [==============================] - 0s 48us/sample - loss: 34.6171 - val_loss: 38.3188\n",
      "Epoch 42/100\n",
      "261/261 [==============================] - 0s 44us/sample - loss: 28.9607 - val_loss: 41.1012\n",
      "Epoch 43/100\n",
      "261/261 [==============================] - 0s 46us/sample - loss: 28.8163 - val_loss: 24.1015\n",
      "Epoch 44/100\n",
      "261/261 [==============================] - 0s 42us/sample - loss: 25.4938 - val_loss: 30.0350\n",
      "Epoch 45/100\n",
      "261/261 [==============================] - 0s 48us/sample - loss: 26.4152 - val_loss: 27.3731\n",
      "Epoch 46/100\n",
      "261/261 [==============================] - 0s 48us/sample - loss: 65.7739 - val_loss: 21.5711\n",
      "Epoch 47/100\n",
      "261/261 [==============================] - 0s 44us/sample - loss: 29.4209 - val_loss: 21.3417\n",
      "Epoch 48/100\n",
      "261/261 [==============================] - 0s 44us/sample - loss: 31.5956 - val_loss: 45.3702\n",
      "Epoch 49/100\n",
      "261/261 [==============================] - 0s 46us/sample - loss: 35.0399 - val_loss: 23.1512\n",
      "Epoch 50/100\n",
      "261/261 [==============================] - 0s 46us/sample - loss: 27.2720 - val_loss: 30.2474\n",
      "Epoch 51/100\n",
      "261/261 [==============================] - 0s 40us/sample - loss: 26.8690 - val_loss: 23.5099\n",
      "Epoch 52/100\n",
      "261/261 [==============================] - 0s 44us/sample - loss: 35.1155 - val_loss: 31.2597\n",
      "Epoch 53/100\n",
      "261/261 [==============================] - 0s 40us/sample - loss: 28.9802 - val_loss: 23.8586\n",
      "Epoch 54/100\n",
      "261/261 [==============================] - 0s 50us/sample - loss: 31.4718 - val_loss: 33.5798\n",
      "Epoch 55/100\n",
      "261/261 [==============================] - 0s 44us/sample - loss: 28.3885 - val_loss: 61.9365\n",
      "Epoch 56/100\n",
      "261/261 [==============================] - 0s 46us/sample - loss: 60.5344 - val_loss: 28.8386\n",
      "Epoch 57/100\n",
      "261/261 [==============================] - 0s 48us/sample - loss: 40.4689 - val_loss: 36.0788\n",
      "Epoch 58/100\n",
      "261/261 [==============================] - 0s 48us/sample - loss: 30.8250 - val_loss: 37.2857\n",
      "Epoch 59/100\n",
      "261/261 [==============================] - 0s 44us/sample - loss: 38.0503 - val_loss: 25.9463\n",
      "Epoch 60/100\n",
      "261/261 [==============================] - 0s 44us/sample - loss: 41.4040 - val_loss: 34.3617\n",
      "Epoch 61/100\n",
      "261/261 [==============================] - 0s 40us/sample - loss: 33.3063 - val_loss: 25.3214\n",
      "Epoch 62/100\n",
      "261/261 [==============================] - 0s 44us/sample - loss: 25.2991 - val_loss: 30.7529\n",
      "Epoch 63/100\n",
      "261/261 [==============================] - 0s 48us/sample - loss: 27.6950 - val_loss: 34.7574\n",
      "Epoch 64/100\n",
      "261/261 [==============================] - 0s 46us/sample - loss: 92.7278 - val_loss: 28.6096\n",
      "Epoch 65/100\n",
      "261/261 [==============================] - 0s 46us/sample - loss: 42.6713 - val_loss: 39.8331\n",
      "Epoch 66/100\n",
      "261/261 [==============================] - 0s 44us/sample - loss: 34.3873 - val_loss: 22.7549\n",
      "Epoch 67/100\n",
      "261/261 [==============================] - 0s 46us/sample - loss: 24.9950 - val_loss: 21.9495\n",
      "Epoch 68/100\n",
      "261/261 [==============================] - 0s 50us/sample - loss: 26.7098 - val_loss: 30.0769\n",
      "Epoch 69/100\n",
      "261/261 [==============================] - 0s 46us/sample - loss: 32.9789 - val_loss: 22.1115\n",
      "Epoch 70/100\n",
      "261/261 [==============================] - 0s 44us/sample - loss: 25.3977 - val_loss: 28.6223\n",
      "Epoch 71/100\n",
      "261/261 [==============================] - 0s 42us/sample - loss: 38.6082 - val_loss: 36.1740\n",
      "Epoch 72/100\n",
      "261/261 [==============================] - 0s 44us/sample - loss: 43.0772 - val_loss: 37.7546\n",
      "Epoch 73/100\n",
      "261/261 [==============================] - 0s 40us/sample - loss: 27.9841 - val_loss: 22.0433\n",
      "Epoch 74/100\n",
      "261/261 [==============================] - 0s 50us/sample - loss: 38.0815 - val_loss: 25.8137\n",
      "Epoch 75/100\n",
      "261/261 [==============================] - 0s 44us/sample - loss: 28.3082 - val_loss: 79.5282\n",
      "Epoch 76/100\n",
      "261/261 [==============================] - 0s 46us/sample - loss: 192.1300 - val_loss: 30.7876\n"
     ]
    },
    {
     "name": "stdout",
     "output_type": "stream",
     "text": [
      "Epoch 77/100\n",
      "261/261 [==============================] - 0s 38us/sample - loss: 49.0346 - val_loss: 25.2944\n",
      "Epoch 78/100\n",
      "261/261 [==============================] - 0s 40us/sample - loss: 25.9160 - val_loss: 22.6452\n",
      "Epoch 79/100\n",
      "261/261 [==============================] - 0s 44us/sample - loss: 26.2530 - val_loss: 23.9253\n",
      "Epoch 80/100\n",
      "261/261 [==============================] - 0s 44us/sample - loss: 29.6773 - val_loss: 22.9296\n",
      "Epoch 81/100\n",
      "261/261 [==============================] - 0s 42us/sample - loss: 26.8845 - val_loss: 26.8620\n",
      "Epoch 82/100\n",
      "261/261 [==============================] - 0s 42us/sample - loss: 33.6356 - val_loss: 17.5737\n",
      "Epoch 83/100\n",
      "261/261 [==============================] - 0s 48us/sample - loss: 24.6414 - val_loss: 19.5367\n",
      "Epoch 84/100\n",
      "261/261 [==============================] - 0s 44us/sample - loss: 26.7956 - val_loss: 31.2707\n",
      "Epoch 85/100\n",
      "261/261 [==============================] - 0s 40us/sample - loss: 42.6170 - val_loss: 23.6292\n",
      "Epoch 86/100\n",
      "261/261 [==============================] - 0s 44us/sample - loss: 26.6246 - val_loss: 27.7817\n",
      "Epoch 87/100\n",
      "261/261 [==============================] - 0s 42us/sample - loss: 37.0243 - val_loss: 33.2429\n",
      "Epoch 88/100\n",
      "261/261 [==============================] - 0s 44us/sample - loss: 32.6729 - val_loss: 21.2336\n",
      "Epoch 89/100\n",
      "261/261 [==============================] - 0s 38us/sample - loss: 25.7700 - val_loss: 19.4689\n",
      "Epoch 90/100\n",
      "261/261 [==============================] - 0s 40us/sample - loss: 25.4207 - val_loss: 26.7998\n",
      "Epoch 91/100\n",
      "261/261 [==============================] - 0s 36us/sample - loss: 34.3646 - val_loss: 26.4533\n",
      "Epoch 92/100\n",
      "261/261 [==============================] - 0s 40us/sample - loss: 35.9705 - val_loss: 25.0078\n",
      "Epoch 93/100\n",
      "261/261 [==============================] - 0s 46us/sample - loss: 25.5029 - val_loss: 26.7890\n",
      "Epoch 94/100\n",
      "261/261 [==============================] - 0s 44us/sample - loss: 27.2978 - val_loss: 38.4301\n",
      "Epoch 95/100\n",
      "261/261 [==============================] - 0s 46us/sample - loss: 37.2316 - val_loss: 23.9012\n",
      "Epoch 96/100\n",
      "261/261 [==============================] - 0s 42us/sample - loss: 27.5360 - val_loss: 29.8287\n",
      "Epoch 97/100\n",
      "261/261 [==============================] - 0s 44us/sample - loss: 36.0160 - val_loss: 17.8026\n",
      "Epoch 98/100\n",
      "261/261 [==============================] - 0s 44us/sample - loss: 30.9154 - val_loss: 20.4544\n",
      "Epoch 99/100\n",
      "261/261 [==============================] - 0s 48us/sample - loss: 26.2268 - val_loss: 20.5562\n",
      "Epoch 100/100\n",
      "261/261 [==============================] - 0s 42us/sample - loss: 24.3962 - val_loss: 21.1083\n"
     ]
    },
    {
     "data": {
      "text/plain": [
       "<tensorflow.python.keras.callbacks.History at 0x26b090bee10>"
      ]
     },
     "execution_count": 19,
     "metadata": {},
     "output_type": "execute_result"
    }
   ],
   "source": [
    "model = tf.keras.Sequential()\n",
    "model.add(layers.Dense(16,kernel_initializer='random_normal',kernel_regularizer=tf.keras.regularizers.l2(0.03)))\n",
    "model.add(layers.Dense(32,kernel_initializer='random_normal',kernel_regularizer=tf.keras.regularizers.l2(0.03)))\n",
    "model.add(layers.Dense(1,kernel_initializer='random_normal',kernel_regularizer=tf.keras.regularizers.l2(0.03)))\n",
    "\n",
    "model.compile(optimizer=tf.keras.optimizers.SGD(0.001),\n",
    "             loss='mean_squared_error')\n",
    "model.fit(input_features, labels, validation_split=0.25, epochs=100, batch_size=64)"
   ]
  },
  {
   "cell_type": "markdown",
   "metadata": {},
   "source": [
    "### 预测模型结果"
   ]
  },
  {
   "cell_type": "code",
   "execution_count": 20,
   "metadata": {
    "collapsed": true
   },
   "outputs": [],
   "source": [
    "predict = model.predict(input_features)"
   ]
  },
  {
   "cell_type": "code",
   "execution_count": 21,
   "metadata": {},
   "outputs": [
    {
     "data": {
      "text/plain": [
       "(348, 1)"
      ]
     },
     "execution_count": 21,
     "metadata": {},
     "output_type": "execute_result"
    }
   ],
   "source": [
    "predict.shape"
   ]
  },
  {
   "cell_type": "markdown",
   "metadata": {},
   "source": [
    "### 测试结果并进行展示"
   ]
  },
  {
   "cell_type": "code",
   "execution_count": 31,
   "metadata": {
    "collapsed": true
   },
   "outputs": [],
   "source": [
    "# 转换日期格式\n",
    "dates = [str(int(year)) + '-' + str(int(month)) + '-' + str(int(day)) for year, month, day in zip(years, months, days)]\n",
    "dates = [datetime.datetime.strptime(date, '%Y-%m-%d') for date in dates]\n",
    "\n",
    "# 创建一个表格来存日期和其对应的标签数值\n",
    "true_data = pd.DataFrame(data = {'date': dates, 'actual': labels})\n",
    "\n",
    "# 同理，再创建一个来存日期和其对应的模型预测值\n",
    "months = features[:, feature_list.index('month')]\n",
    "days = features[:, feature_list.index('day')]\n",
    "years = features[:, feature_list.index('year')]\n",
    "\n",
    "test_dates = [str(int(year)) + '-' + str(int(month)) + '-' + str(int(day)) for year, month, day in zip(years, months, days)]\n",
    "\n",
    "test_dates = [datetime.datetime.strptime(date, '%Y-%m-%d') for date in test_dates]\n",
    "\n",
    "predictions_data = pd.DataFrame(data = {'date': test_dates, 'prediction': predict.reshape(-1)}) "
   ]
  },
  {
   "cell_type": "code",
   "execution_count": 32,
   "metadata": {},
   "outputs": [
    {
     "data": {
      "image/png": "[encoded data removed]",
      "text/plain": [
       "<Figure size 432x288 with 1 Axes>"
      ]
     },
     "metadata": {},
     "output_type": "display_data"
    }
   ],
   "source": [
    "# 真实值\n",
    "plt.plot(true_data['date'], true_data['actual'], 'b-', label = 'actual')\n",
    "\n",
    "# 预测值\n",
    "plt.plot(predictions_data['date'], predictions_data['prediction'], 'ro', label = 'prediction')\n",
    "plt.xticks(rotation = '60'); \n",
    "plt.legend()\n",
    "\n",
    "# 图名\n",
    "plt.xlabel('Date'); plt.ylabel('Maximum Temperature (F)'); plt.title('Actual and Predicted Values');\n"
   ]
  },
  {
   "cell_type": "code",
   "execution_count": null,
   "metadata": {
    "collapsed": true
   },
   "outputs": [],
   "source": []
  },
  {
   "cell_type": "code",
   "execution_count": null,
   "metadata": {
    "collapsed": true
   },
   "outputs": [],
   "source": []
  }
 ],
 "metadata": {
  "kernelspec": {
   "display_name": "Python 3",
   "language": "python",
   "name": "python3"
  },
  "language_info": {
   "codemirror_mode": {
    "name": "ipython",
    "version": 3
   },
   "file_extension": ".py",
   "mimetype": "text/x-python",
   "name": "python",
   "nbconvert_exporter": "python",
   "pygments_lexer": "ipython3",
   "version": "3.6.3"
  }
 },
 "nbformat": 4,
 "nbformat_minor": 2
}
