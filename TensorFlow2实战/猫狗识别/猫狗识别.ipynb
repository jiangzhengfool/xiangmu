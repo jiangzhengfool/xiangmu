{
 "cells": [
  {
   "cell_type": "markdown",
   "metadata": {
    "colab_type": "text",
    "id": "3bSXLX4pkdxs"
   },
   "source": [
    "## 猫狗识别\n",
    "\n",
    "- 数据预处理：图像数据处理，准备训练和验证数据集\n",
    "- 卷积网络模型：构建网络架构\n",
    "- 过拟合问题：观察训练和验证效果，针对过拟合问题提出解决方法\n",
    "- 数据增强：图像数据增强方法与效果\n",
    "- 迁移学习：深度学习必备训练策略"
   ]
  },
  {
   "cell_type": "markdown",
   "metadata": {},
   "source": [
    "<img src=\"./img/1.png\" alt=\"FAO\" width=\"990\">"
   ]
  },
  {
   "cell_type": "markdown",
   "metadata": {
    "colab_type": "text",
    "id": "3TQcJVqBuYi4"
   },
   "source": [
    "### 导入工具包"
   ]
  },
  {
   "cell_type": "code",
   "execution_count": 3,
   "metadata": {
    "colab": {},
    "colab_type": "code",
    "id": "uyi-eUVGTe_j"
   },
   "outputs": [],
   "source": [
    "import os\n",
    "import warnings\n",
    "warnings.filterwarnings(\"ignore\")\n",
    "import tensorflow as tf\n",
    "from tensorflow.keras.optimizers import Adam\n",
    "from tensorflow.keras.preprocessing.image import ImageDataGenerator"
   ]
  },
  {
   "cell_type": "markdown",
   "metadata": {
    "colab_type": "text",
    "id": "gatL3NZbvj_p"
   },
   "source": [
    "### 指定好数据路径（训练和验证）"
   ]
  },
  {
   "cell_type": "code",
   "execution_count": 4,
   "metadata": {
    "colab": {},
    "colab_type": "code",
    "collapsed": true,
    "id": "CRLCp-a6vtCN"
   },
   "outputs": [],
   "source": [
    "# 数据所在文件夹\n",
    "base_dir = './data/cats_and_dogs'\n",
    "train_dir = os.path.join(base_dir, 'train')\n",
    "validation_dir = os.path.join(base_dir, 'validation')\n",
    "\n",
    "# 训练集\n",
    "train_cats_dir = os.path.join(train_dir, 'cats')\n",
    "train_dogs_dir = os.path.join(train_dir, 'dogs')\n",
    "\n",
    "# 验证集\n",
    "validation_cats_dir = os.path.join(validation_dir, 'cats')\n",
    "validation_dogs_dir = os.path.join(validation_dir, 'dogs')"
   ]
  },
  {
   "cell_type": "markdown",
   "metadata": {
    "colab_type": "text",
    "id": "D72OzHazUUK9"
   },
   "source": [
    "### 构建卷积神经网络模型\n",
    "- 几层都可以，大家可以随意玩\n",
    "- 如果用CPU训练，可以把输入设置的更小一些，一般输入大小更主要的决定了训练速度"
   ]
  },
  {
   "cell_type": "code",
   "execution_count": 5,
   "metadata": {
    "colab": {
     "base_uri": "https://localhost:8080/",
     "height": 88
    },
    "colab_type": "code",
    "id": "Aedt-HNewUP3",
    "outputId": "09cc6986-eb07-499d-ea6f-714f8035f3f3"
   },
   "outputs": [],
   "source": [
    "model = tf.keras.models.Sequential([\n",
    "    #如果训练慢，可以把数据设置的更小一些\n",
    "    tf.keras.layers.Conv2D(32, (3,3), activation='relu', input_shape=(64, 64, 3)),\n",
    "    tf.keras.layers.MaxPooling2D(2, 2),\n",
    "\n",
    "    tf.keras.layers.Conv2D(64, (3,3), activation='relu'),\n",
    "    tf.keras.layers.MaxPooling2D(2,2),\n",
    "\n",
    "    tf.keras.layers.Conv2D(128, (3,3), activation='relu'),\n",
    "    tf.keras.layers.MaxPooling2D(2,2),\n",
    "    \n",
    "    #为全连接层准备\n",
    "    tf.keras.layers.Flatten(),\n",
    "    \n",
    "    tf.keras.layers.Dense(512, activation='relu'),\n",
    "    # 二分类sigmoid就够了\n",
    "    tf.keras.layers.Dense(1, activation='sigmoid')\n",
    "])"
   ]
  },
  {
   "cell_type": "code",
   "execution_count": 6,
   "metadata": {
    "colab": {
     "base_uri": "https://localhost:8080/",
     "height": 527
    },
    "colab_type": "code",
    "id": "tDtm3juUWpw6",
    "outputId": "7822dc4f-3aa1-47bc-a635-f5161b71d079"
   },
   "outputs": [
    {
     "name": "stdout",
     "output_type": "stream",
     "text": [
      "Model: \"sequential\"\n",
      "_________________________________________________________________\n",
      "Layer (type)                 Output Shape              Param #   \n",
      "=================================================================\n",
      "conv2d (Conv2D)              (None, 62, 62, 32)        896       \n",
      "_________________________________________________________________\n",
      "max_pooling2d (MaxPooling2D) (None, 31, 31, 32)        0         \n",
      "_________________________________________________________________\n",
      "conv2d_1 (Conv2D)            (None, 29, 29, 64)        18496     \n",
      "_________________________________________________________________\n",
      "max_pooling2d_1 (MaxPooling2 (None, 14, 14, 64)        0         \n",
      "_________________________________________________________________\n",
      "conv2d_2 (Conv2D)            (None, 12, 12, 128)       73856     \n",
      "_________________________________________________________________\n",
      "max_pooling2d_2 (MaxPooling2 (None, 6, 6, 128)         0         \n",
      "_________________________________________________________________\n",
      "flatten (Flatten)            (None, 4608)              0         \n",
      "_________________________________________________________________\n",
      "dense (Dense)                (None, 512)               2359808   \n",
      "_________________________________________________________________\n",
      "dense_1 (Dense)              (None, 1)                 513       \n",
      "=================================================================\n",
      "Total params: 2,453,569\n",
      "Trainable params: 2,453,569\n",
      "Non-trainable params: 0\n",
      "_________________________________________________________________\n"
     ]
    }
   ],
   "source": [
    "model.summary()"
   ]
  },
  {
   "cell_type": "markdown",
   "metadata": {
    "colab_type": "text",
    "id": "GFnJT_vVWn1M"
   },
   "source": [
    "配置训练器"
   ]
  },
  {
   "cell_type": "code",
   "execution_count": 7,
   "metadata": {
    "colab": {
     "base_uri": "https://localhost:8080/",
     "height": 88
    },
    "colab_type": "code",
    "id": "anR2p_UMX9TA",
    "outputId": "b816458e-2cf8-4f30-a953-cb11f9f9a157"
   },
   "outputs": [],
   "source": [
    "model.compile(loss='binary_crossentropy',\n",
    "              optimizer=Adam(lr=1e-4),\n",
    "              metrics=['acc'])"
   ]
  },
  {
   "cell_type": "markdown",
   "metadata": {},
   "source": [
    "### 数据预处理\n",
    "\n",
    "- 读进来的数据会被自动转换成tensor(float32)格式，分别准备训练和验证\n",
    "- 图像数据归一化（0-1）区间"
   ]
  },
  {
   "cell_type": "code",
   "execution_count": 8,
   "metadata": {
    "colab": {},
    "colab_type": "code",
    "collapsed": true,
    "id": "6iogIhqTxGeX"
   },
   "outputs": [],
   "source": [
    "train_datagen = ImageDataGenerator(rescale=1./255)\n",
    "test_datagen = ImageDataGenerator(rescale=1./255)"
   ]
  },
  {
   "cell_type": "code",
   "execution_count": 9,
   "metadata": {
    "colab": {
     "base_uri": "https://localhost:8080/",
     "height": 51
    },
    "colab_type": "code",
    "id": "f9D_MjIHx2XD",
    "outputId": "abc41e7c-48a1-4dad-b3fe-4442f2cf6953"
   },
   "outputs": [
    {
     "name": "stdout",
     "output_type": "stream",
     "text": [
      "Found 2000 images belonging to 2 classes.\n",
      "Found 1000 images belonging to 2 classes.\n"
     ]
    }
   ],
   "source": [
    "train_generator = train_datagen.flow_from_directory(\n",
    "        train_dir,  # 文件夹路径\n",
    "        target_size=(64, 64),  # 指定resize成的大小\n",
    "        batch_size=20,\n",
    "        # 如果one-hot就是categorical，二分类用binary就可以\n",
    "        class_mode='binary')\n",
    "\n",
    "validation_generator = test_datagen.flow_from_directory(\n",
    "        validation_dir,\n",
    "        target_size=(64, 64),\n",
    "        batch_size=20,\n",
    "        class_mode='binary')"
   ]
  },
  {
   "cell_type": "markdown",
   "metadata": {
    "colab_type": "text",
    "id": "I8TfHlDGx8Gz"
   },
   "source": [
    "### 训练网络模型\n",
    "- 直接fit也可以，但是通常咱们不能把所有数据全部放入内存，fit_generator相当于一个生成器，动态产生所需的batch数据\n",
    "- steps_per_epoch相当给定一个停止条件，因为生成器会不断产生batch数据，说白了就是它不知道一个epoch里需要执行多少个step"
   ]
  },
  {
   "cell_type": "code",
   "execution_count": 10,
   "metadata": {
    "colab": {
     "base_uri": "https://localhost:8080/",
     "height": 1000
    },
    "colab_type": "code",
    "id": "m6yLZpibyMXB",
    "outputId": "7944b730-b558-4ee7-9ed7-18021ed7af4a"
   },
   "outputs": [
    {
     "name": "stdout",
     "output_type": "stream",
     "text": [
      "Epoch 1/20\n",
      "100/100 - 9s - loss: 0.6909 - acc: 0.5240 - val_loss: 0.6952 - val_acc: 0.5000\n",
      "Epoch 2/20\n",
      "100/100 - 9s - loss: 0.6645 - acc: 0.5960 - val_loss: 0.6906 - val_acc: 0.5360\n",
      "Epoch 3/20\n",
      "100/100 - 9s - loss: 0.6279 - acc: 0.6410 - val_loss: 0.6533 - val_acc: 0.6260\n",
      "Epoch 4/20\n",
      "100/100 - 9s - loss: 0.5740 - acc: 0.6850 - val_loss: 0.6046 - val_acc: 0.6830\n",
      "Epoch 5/20\n",
      "100/100 - 9s - loss: 0.5365 - acc: 0.7360 - val_loss: 0.5944 - val_acc: 0.6730\n",
      "Epoch 6/20\n",
      "100/100 - 9s - loss: 0.5072 - acc: 0.7620 - val_loss: 0.5837 - val_acc: 0.6820\n",
      "Epoch 7/20\n",
      "100/100 - 9s - loss: 0.4946 - acc: 0.7625 - val_loss: 0.5588 - val_acc: 0.7170\n",
      "Epoch 8/20\n",
      "100/100 - 9s - loss: 0.4454 - acc: 0.8030 - val_loss: 0.5718 - val_acc: 0.6980\n",
      "Epoch 9/20\n",
      "100/100 - 9s - loss: 0.4273 - acc: 0.8070 - val_loss: 0.5946 - val_acc: 0.6910\n",
      "Epoch 10/20\n",
      "100/100 - 9s - loss: 0.3922 - acc: 0.8295 - val_loss: 0.5526 - val_acc: 0.7380\n",
      "Epoch 11/20\n",
      "100/100 - 9s - loss: 0.3689 - acc: 0.8470 - val_loss: 0.5723 - val_acc: 0.7180\n",
      "Epoch 12/20\n",
      "100/100 - 9s - loss: 0.3354 - acc: 0.8625 - val_loss: 0.5943 - val_acc: 0.7220\n",
      "Epoch 13/20\n",
      "100/100 - 9s - loss: 0.3305 - acc: 0.8655 - val_loss: 0.5582 - val_acc: 0.7430\n",
      "Epoch 14/20\n",
      "100/100 - 9s - loss: 0.2954 - acc: 0.8840 - val_loss: 0.5644 - val_acc: 0.7330\n",
      "Epoch 15/20\n",
      "100/100 - 9s - loss: 0.2655 - acc: 0.8980 - val_loss: 0.5621 - val_acc: 0.7400\n",
      "Epoch 16/20\n",
      "100/100 - 9s - loss: 0.2436 - acc: 0.9135 - val_loss: 0.5567 - val_acc: 0.7440\n",
      "Epoch 17/20\n",
      "100/100 - 9s - loss: 0.2194 - acc: 0.9270 - val_loss: 0.5915 - val_acc: 0.7290\n",
      "Epoch 18/20\n",
      "100/100 - 9s - loss: 0.1953 - acc: 0.9345 - val_loss: 0.5975 - val_acc: 0.7400\n",
      "Epoch 19/20\n",
      "100/100 - 9s - loss: 0.1750 - acc: 0.9460 - val_loss: 0.6277 - val_acc: 0.7390\n",
      "Epoch 20/20\n",
      "100/100 - 9s - loss: 0.1593 - acc: 0.9505 - val_loss: 0.5901 - val_acc: 0.7490\n"
     ]
    }
   ],
   "source": [
    "history = model.fit_generator(\n",
    "      train_generator,\n",
    "      steps_per_epoch=100,  # 2000 images = batch_size * steps\n",
    "      epochs=20,\n",
    "      validation_data=validation_generator,\n",
    "      validation_steps=50,  # 1000 images = batch_size * steps\n",
    "      verbose=2)"
   ]
  },
  {
   "cell_type": "markdown",
   "metadata": {
    "colab_type": "text",
    "id": "jJFgckBNyhu8"
   },
   "source": [
    "### 效果展示"
   ]
  },
  {
   "cell_type": "code",
   "execution_count": 11,
   "metadata": {
    "colab": {
     "base_uri": "https://localhost:8080/",
     "height": 545
    },
    "colab_type": "code",
    "id": "Bc-Y9ymQz1nq",
    "outputId": "391f6998-8282-480d-b857-0dd569d0e661"
   },
   "outputs": [
    {
     "data": {
      "image/png": "[encoded data removed]",
      "text/plain": [
       "<Figure size 432x288 with 1 Axes>"
      ]
     },
     "metadata": {},
     "output_type": "display_data"
    },
    {
     "data": {
      "image/png": "[encoded data removed]",
      "text/plain": [
       "<Figure size 432x288 with 1 Axes>"
      ]
     },
     "metadata": {},
     "output_type": "display_data"
    }
   ],
   "source": [
    "import matplotlib.pyplot as plt\n",
    "acc = history.history['acc']\n",
    "val_acc = history.history['val_acc']\n",
    "loss = history.history['loss']\n",
    "val_loss = history.history['val_loss']\n",
    "\n",
    "epochs = range(len(acc))\n",
    "\n",
    "plt.plot(epochs, acc, 'bo', label='Training accuracy')\n",
    "plt.plot(epochs, val_acc, 'b', label='Validation accuracy')\n",
    "plt.title('Training and validation accuracy')\n",
    "\n",
    "plt.figure()\n",
    "\n",
    "plt.plot(epochs, loss, 'bo', label='Training Loss')\n",
    "plt.plot(epochs, val_loss, 'b', label='Validation Loss')\n",
    "plt.title('Training and validation loss')\n",
    "plt.legend()\n",
    "\n",
    "plt.show()"
   ]
  },
  {
   "cell_type": "markdown",
   "metadata": {},
   "source": [
    "看起来完全过拟合了，如何解决呢？"
   ]
  }
 ],
 "metadata": {
  "accelerator": "GPU",
  "colab": {
   "collapsed_sections": [],
   "name": "dogsVcats_subset_v2",
   "provenance": [],
   "version": "0.3.2"
  },
  "kernelspec": {
   "display_name": "Python 3",
   "language": "python",
   "name": "python3"
  },
  "language_info": {
   "codemirror_mode": {
    "name": "ipython",
    "version": 3
   },
   "file_extension": ".py",
   "mimetype": "text/x-python",
   "name": "python",
   "nbconvert_exporter": "python",
   "pygments_lexer": "ipython3",
   "version": "3.6.3"
  }
 },
 "nbformat": 4,
 "nbformat_minor": 1
}
